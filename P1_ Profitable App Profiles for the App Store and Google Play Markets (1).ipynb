{
 "cells": [
  {
   "cell_type": "markdown",
   "metadata": {},
   "source": [
    "# Profitable App Profiles for the App Store and Google Play Markets\n",
    "\n",
    "\n",
    "#### Aim : To find new App profiles that can attract more users and have more chances of success by analysing the available dataset  from Google Playstore and iOS App store. \n",
    "\n",
    "\n",
    "\n",
    "This data analysis project is done for an app building company to help them find better app profiles that have good traction by analysing exisiting app data from Google play store and iOS app store. \n",
    "\n",
    "\n",
    "The goal of the company is to build Free apps and generate revenue through in-app ads.\n",
    "\n",
    "\n",
    "The more people download and use the app, the more people will be interacting with the in-app ads. This in turn increases the revenue from the app. So more people, more download and more profit is the basic equation here. \n",
    "\n",
    "\n",
    "**So our goal for this project is to analyze data to help our developers understand what type of apps are likely to attract more users and increase the number of downloads.**\n",
    "\n",
    "\n",
    "\n",
    "In order to achieve this goal we are going to find datasets that are connected with Google  and iOS app stores and analyse it. \n",
    "\n",
    "\n",
    "As of September 2018, there were approximately 2 million iOS apps available on the App Store, and 2.1 million Android apps on Google Play. It will be a huge task to collect all this data. So we will be going to analyse a small sample dataset. \n",
    "\n",
    "\n",
    "## Datasets\n",
    "\n",
    "\n",
    "There are two data sets that seem suitable for our goals:\n",
    "\n",
    "   * A [data set](https://www.kaggle.com/lava18/google-play-store-apps) containing data about approximately 10,000 Android apps from Google Play \n",
    "   * A [data set](https://www.kaggle.com/ramamet4/app-store-apple-data-set-10k-apps) containing data about approximately 7,000 iOS apps from the App Store\n",
    "\n",
    "Google playstore data was collected in August 2018. You can download the data set directly from this [Link](https://dq-content.s3.amazonaws.com/350/googleplaystore.csv).\n",
    "iOS Appstore data was collected in July 2017. You can download the data set directly from this [Link](https://dq-content.s3.amazonaws.com/350/AppleStore.csv).\n",
    "\n",
    "\n",
    "\n"
   ]
  },
  {
   "cell_type": "markdown",
   "metadata": {},
   "source": [
    "# Opening The Data set\n"
   ]
  },
  {
   "cell_type": "code",
   "execution_count": 1,
   "metadata": {},
   "outputs": [],
   "source": [
    "#Opening the files\n",
    "\n",
    "opened_data_apple= open(r\"\\Users\\Surface GO\\Downloads\\AppleStore.csv\", encoding = \"UTF-8\")\n",
    "opened_data_google= open(r\"\\Users\\Surface GO\\Downloads\\googleplaystore.csv\", encoding = \"UTF-8\")\n",
    "\n",
    "\n",
    "from csv import reader          #to get csv reading capabilities from CSV library\n",
    "\n",
    "\n",
    "#reading the files\n",
    "\n",
    "read_apple_data= reader(opened_data_apple)     # we are using reader() function from csv library\n",
    "read_google_data=reader(opened_data_google)\n",
    "\n",
    "\n",
    "#making them into list for data manipulations\n",
    "\n",
    "ios_app_list=list(read_apple_data)             # we are using list() function to create a list\n",
    "google_app_list=list(read_google_data)\n",
    "\n",
    "\n",
    "#getting the header, ie the first row\n",
    "\n",
    "ios_header=ios_app_list[0]                  #fetches the fist row from the list\n",
    "google_app_header=google_app_list[0]        #fetches the fist row from the list\n",
    "\n",
    "\n",
    "#getting the app data w/o header\n",
    "\n",
    "ios_apps=ios_app_list[1:]          # this will read all rows except the header row at '0'\n",
    "google_apps=google_app_list[1:]    # this will read all rows except the header row at '0'\n",
    "\n"
   ]
  },
  {
   "cell_type": "markdown",
   "metadata": {},
   "source": [
    "# Exploring the dataset\n",
    "\n",
    "We are going to create a function to explore the data by printing the data slices and to check number of rows and columns in the whole data set. For that purpose a function named explore_data() will be defined and it can be repeatedly used to print rows in a readable way."
   ]
  },
  {
   "cell_type": "code",
   "execution_count": 2,
   "metadata": {},
   "outputs": [],
   "source": [
    "\n",
    "# to explore the data we need to specify which dataset to use, starting and ending row\n",
    "# if you want to find the number of rows and columns, specify True or False\n",
    "\n",
    "\n",
    "\n",
    "def explore_data(dataset, start, end, rows_and_columns=False):\n",
    "    \n",
    "    dataset_slice=dataset[start:end]            # slices dataset from the start and end rows provided\n",
    "    for row in dataset_slice:\n",
    "        print(row,'\\n')                         #prints each row of the sliced dataset in a new line\n",
    "        \n",
    "                                                # if rows and colums in specified as True   \n",
    "            \n",
    "    if rows_and_columns:                                                \n",
    "        print('Number of rows: ', len(dataset))          # find the length of the dataset, ie the no. of rows\n",
    "        print('Number of Columns: ', len(dataset[0]))   #find the length of first row, ie no of columns"
   ]
  },
  {
   "cell_type": "markdown",
   "metadata": {},
   "source": [
    "# Lets Explore the data now\n",
    "\n",
    "Let us start by printing the first 3 rows of each data set and checking the total number of Rows and columns in each data set. We will also check the column names to get a better understanding of the data we are analysing. \n",
    "\n",
    "But before that let us write a function to find the index of the header items. \n",
    "\n",
    "## Index finding function\n",
    "\n",
    "This is a function created to get the index of header elements in a dataset. To get the  index, call the function with the dataset name as argument."
   ]
  },
  {
   "cell_type": "code",
   "execution_count": 3,
   "metadata": {},
   "outputs": [],
   "source": [
    "def indexer(dataset_header):         # Input the dataset header to retrieve its index\n",
    "    index=0\n",
    "    print(\"Index\")                   #### is there a way to print the variable name used? (eg. index of appstore)\n",
    "    for column_name in dataset_header:      #finding each column name from the header row\n",
    "        print(index, ' : ', column_name)    \n",
    "        index+=1\n",
    "    print('\\n \\n')\n",
    "        "
   ]
  },
  {
   "cell_type": "markdown",
   "metadata": {},
   "source": [
    "## Now let us print the ios Header\n",
    "We use explore_data function to print first 3 rows of iOS dataset."
   ]
  },
  {
   "cell_type": "code",
   "execution_count": 4,
   "metadata": {},
   "outputs": [
    {
     "name": "stdout",
     "output_type": "stream",
     "text": [
      "------------------ios Header------------------ \n",
      " \n",
      " ['id', 'track_name', 'size_bytes', 'currency', 'price', 'rating_count_tot', 'rating_count_ver', 'user_rating', 'user_rating_ver', 'ver', 'cont_rating', 'prime_genre', 'sup_devices.num', 'ipadSc_urls.num', 'lang.num', 'vpp_lic'] \n",
      " \n",
      "\n",
      "------------------ios 3 rows of data------------------\n",
      " \n",
      "\n",
      "['284882215', 'Facebook', '389879808', 'USD', '0.0', '2974676', '212', '3.5', '3.5', '95.0', '4+', 'Social Networking', '37', '1', '29', '1'] \n",
      "\n",
      "['389801252', 'Instagram', '113954816', 'USD', '0.0', '2161558', '1289', '4.5', '4.0', '10.23', '12+', 'Photo & Video', '37', '0', '29', '1'] \n",
      "\n",
      "['529479190', 'Clash of Clans', '116476928', 'USD', '0.0', '2130805', '579', '4.5', '4.5', '9.24.12', '9+', 'Games', '38', '5', '18', '1'] \n",
      "\n",
      "Number of rows:  7197\n",
      "Number of Columns:  16\n"
     ]
    }
   ],
   "source": [
    "print(\"------------------ios Header------------------\", '\\n', '\\n', ios_header,'\\n','\\n')\n",
    "\n",
    "\n",
    "print(\"------------------ios 3 rows of data------------------\\n \\n\")\n",
    "explore_data(ios_apps,0,3, True)\n",
    "\n"
   ]
  },
  {
   "cell_type": "markdown",
   "metadata": {},
   "source": [
    "# iOS Header and its Description\n",
    "\n",
    "Let us now check what are the items mentioned in the iOS header and what their descriptions are.\n",
    "\n",
    "\n",
    "We have found out that below mentioned items are in iOS header\n",
    "\n",
    " \n",
    " 'id', 'track_name', 'size_bytes', 'currency', 'price', 'rating_count_tot', 'rating_count_ver', 'user_rating', 'user_rating_ver', 'ver', 'cont_rating', 'prime_genre', 'sup_devices.num', 'ipadSc_urls.num', 'lang.num', 'vpp_lic'\n",
    " \n",
    "\n",
    "0 : \"id\" : App ID\n",
    "\n",
    "1: \"track_name\": App Name\n",
    "\n",
    "2: \"size_bytes\": Size (in Bytes)\n",
    "\n",
    "3: \"currency\": Currency Type\n",
    "\n",
    "4: \"price\": Price amount\n",
    "\n",
    "5: \"ratingcounttot\": User Rating counts (for all version)\n",
    "\n",
    "6: \"ratingcountver\": User Rating counts (for current version)\n",
    "\n",
    "7: \"user_rating\" : Average User Rating value (for all version)\n",
    "\n",
    "8: \"userratingver\": Average User Rating value (for current version)\n",
    "\n",
    "9: \"ver\" : Latest version code\n",
    "\n",
    "10: \"cont_rating\": Content Rating\n",
    "\n",
    "11: \"prime_genre\": Primary Genre\n",
    "\n",
    "12: \"sup_devices.num\": Number of supporting devices\n",
    "\n",
    "13: \"ipadSc_urls.num\": Number of screenshots showed for display\n",
    "\n",
    "14: \"lang.num\": Number of supported languages\n",
    "\n",
    "15: \"vpp_lic\": Vpp Device Based Licensing Enabled\n",
    "\n",
    "You can find more details regarding the header description [here](https://www.kaggle.com/ramamet4/app-store-apple-data-set-10k-apps)\n",
    " \n",
    " \n",
    "## Index of iOS Header\n"
   ]
  },
  {
   "cell_type": "code",
   "execution_count": 5,
   "metadata": {},
   "outputs": [
    {
     "name": "stdout",
     "output_type": "stream",
     "text": [
      "Index\n",
      "0  :  id\n",
      "1  :  track_name\n",
      "2  :  size_bytes\n",
      "3  :  currency\n",
      "4  :  price\n",
      "5  :  rating_count_tot\n",
      "6  :  rating_count_ver\n",
      "7  :  user_rating\n",
      "8  :  user_rating_ver\n",
      "9  :  ver\n",
      "10  :  cont_rating\n",
      "11  :  prime_genre\n",
      "12  :  sup_devices.num\n",
      "13  :  ipadSc_urls.num\n",
      "14  :  lang.num\n",
      "15  :  vpp_lic\n",
      "\n",
      " \n",
      "\n"
     ]
    }
   ],
   "source": [
    "indexer(ios_header)   #we called the indexer function with ios_header as the argument"
   ]
  },
  {
   "cell_type": "markdown",
   "metadata": {},
   "source": [
    "# Now let us print the Google Playstore App Header\n",
    "We use explore_data function to print first 3 rows of Google app store dataset."
   ]
  },
  {
   "cell_type": "code",
   "execution_count": 6,
   "metadata": {},
   "outputs": [
    {
     "name": "stdout",
     "output_type": "stream",
     "text": [
      "\n",
      " \n",
      " ------------------Google App Header------------------ \n",
      " \n",
      " ['App', 'Category', 'Rating', 'Reviews', 'Size', 'Installs', 'Type', 'Price', 'Content Rating', 'Genres', 'Last Updated', 'Current Ver', 'Android Ver'] \n",
      " \n",
      "\n",
      "\n",
      " ------------------google apps 3 rows of data------------------ \n",
      "\n",
      "['Photo Editor & Candy Camera & Grid & ScrapBook', 'ART_AND_DESIGN', '4.1', '159', '19M', '10,000+', 'Free', '0', 'Everyone', 'Art & Design', 'January 7, 2018', '1.0.0', '4.0.3 and up'] \n",
      "\n",
      "['Coloring book moana', 'ART_AND_DESIGN', '3.9', '967', '14M', '500,000+', 'Free', '0', 'Everyone', 'Art & Design;Pretend Play', 'January 15, 2018', '2.0.0', '4.0.3 and up'] \n",
      "\n",
      "['U Launcher Lite – FREE Live Cool Themes, Hide Apps', 'ART_AND_DESIGN', '4.7', '87510', '8.7M', '5,000,000+', 'Free', '0', 'Everyone', 'Art & Design', 'August 1, 2018', '1.2.4', '4.0.3 and up'] \n",
      "\n",
      "Number of rows:  10841\n",
      "Number of Columns:  13\n"
     ]
    }
   ],
   "source": [
    "print(\"\\n \\n ------------------Google App Header------------------\", '\\n', '\\n', google_app_header,'\\n','\\n')\n",
    "\n",
    "print(\"\\n ------------------google apps 3 rows of data------------------ \\n\")\n",
    "explore_data(google_apps,0,3, True)"
   ]
  },
  {
   "cell_type": "markdown",
   "metadata": {},
   "source": [
    "\n",
    "# Google App Header and its Description\n",
    " \n",
    " 'App', 'Category', 'Rating', 'Reviews', 'Size', 'Installs', 'Type', 'Price', 'Content Rating', 'Genres', 'Last Updated', 'Current Ver', 'Android Ver'\n",
    " \n",
    " \n",
    "0: App : Application name\n",
    "\n",
    "1: Category :Category the app belongs to\n",
    "\n",
    "2: Rating : Overall user rating of the app (as when scraped)\n",
    "\n",
    "3: Reviews: Number of user reviews for the app (as when scraped)\n",
    "\n",
    "4: Size: Size of the app (as when scraped)\n",
    "\n",
    "5: Installs: Number of user downloads/installs for the app (as when scraped)\n",
    "\n",
    "6: Type:Paid or Free\n",
    "\n",
    "7: Price : Price of the app (as when scraped)\n",
    "\n",
    "8: Content Rating: Age group the app is targeted at - Children / Mature 21+ / Adult\n",
    "\n",
    "9: Genres: An app can belong to multiple genres (apart from its main category). For eg, a musical family game will belong to\n",
    "\n",
    "You can find more details here https://www.kaggle.com/lava18/google-play-store-apps\n",
    "\n",
    "## Index of Google Playstore App Header\n",
    "We use the indexer function to get the index of Google playstore app header.\n",
    " "
   ]
  },
  {
   "cell_type": "code",
   "execution_count": 7,
   "metadata": {},
   "outputs": [
    {
     "name": "stdout",
     "output_type": "stream",
     "text": [
      "Index\n",
      "0  :  App\n",
      "1  :  Category\n",
      "2  :  Rating\n",
      "3  :  Reviews\n",
      "4  :  Size\n",
      "5  :  Installs\n",
      "6  :  Type\n",
      "7  :  Price\n",
      "8  :  Content Rating\n",
      "9  :  Genres\n",
      "10  :  Last Updated\n",
      "11  :  Current Ver\n",
      "12  :  Android Ver\n",
      "\n",
      " \n",
      "\n"
     ]
    }
   ],
   "source": [
    "indexer(google_app_header)   #callind indexer function with google_app_header as argument."
   ]
  },
  {
   "cell_type": "markdown",
   "metadata": {},
   "source": [
    "# Data Cleaning  | Stage 1\n",
    "\n",
    "We need to check if the given dataset is free of errors. If there are any errors, we need to rectify them or remove them.Also we are looking at creating apps that are free to download and that are presented for in English language. \n",
    "\n",
    "So we also need to remove the data of apps\n",
    "\n",
    " * that are not free to download and install, \n",
    " * that are not in English language \n",
    "\n",
    "\n",
    "\n",
    "## Error Finding Step\n",
    "\n",
    "We are looking for errors in the dataset. We can first check if there are any column values missing in the dataset. To check that we can compare if the lenth of the header(the row containing column names) is same as that of each the rows in the data set. \n",
    "\n",
    "If the length of header is not equal to the length of any row, that means, the row is either missing a value or in some case has an additional value. In both cases, there is an error in that row and we need to rectify it. "
   ]
  },
  {
   "cell_type": "code",
   "execution_count": 8,
   "metadata": {},
   "outputs": [
    {
     "name": "stdout",
     "output_type": "stream",
     "text": [
      "Length of ios header is :  16\n",
      "Length of google app header is :  13\n"
     ]
    }
   ],
   "source": [
    "ios_header_length=len(ios_header)                   # finding the length of ios apps' header\n",
    "print(\"Length of ios header is : \", ios_header_length)\n",
    "\n",
    "google_app_header_length=len(google_app_header)     #finding the length of google app header\n",
    "print(\"Length of google app header is : \", google_app_header_length)\n"
   ]
  },
  {
   "cell_type": "code",
   "execution_count": 9,
   "metadata": {},
   "outputs": [],
   "source": [
    "# Checking if the length of each row in ios app data set is equal to that of the header length.\n",
    "# If it is not of the same length, mostly a column value must be missing. So we will print out that row. \n",
    "\n",
    "\n",
    "for app in ios_apps:\n",
    "    if len(app)!=ios_header_length:   # checking if length of each row not equal to the length of header\n",
    "                                      # if the length is not equal, its an error in data and prints that row\n",
    "        print(app)                                                          #printing the content of the row\n",
    "        print(\"Index of the row with error is: \",ios_apps.index(app))       #printing the index of that row  \n",
    "        print(\"Length of ios app row is : \",len(app))"
   ]
  },
  {
   "cell_type": "markdown",
   "metadata": {},
   "source": [
    "It didn't print any row which means all the columns have data corresponding to the items mentioned in the header row. \n",
    "So there is no error in that regards. \n",
    "\n",
    "Now we will move onto Google Playstore app data. We Repeat the same steps for google apps' data set too and print out the row and its index. "
   ]
  },
  {
   "cell_type": "code",
   "execution_count": 10,
   "metadata": {},
   "outputs": [
    {
     "name": "stdout",
     "output_type": "stream",
     "text": [
      "['Life Made WI-Fi Touchscreen Photo Frame', '1.9', '19', '3.0M', '1,000+', 'Free', '0', 'Everyone', '', 'February 11, 2018', '1.0.19', '4.0 and up']\n",
      "Index of the row with error is:  10472\n",
      "Length of google app row is :  12\n"
     ]
    }
   ],
   "source": [
    "for app in google_apps:\n",
    "    if len(app)!=google_app_header_length:\n",
    "        print(app)\n",
    "        print(\"Index of the row with error is: \",google_apps.index(app))\n",
    "        print(\"Length of google app row is : \", len(app))"
   ]
  },
  {
   "cell_type": "markdown",
   "metadata": {},
   "source": [
    "We have found out that ios app data doesn't have any missing columns. But that of google apps have missing values. It only has 12 values instead of 13. \n",
    "\n",
    "Now we need to delete the row that has missing values. "
   ]
  },
  {
   "cell_type": "code",
   "execution_count": 11,
   "metadata": {},
   "outputs": [
    {
     "name": "stdout",
     "output_type": "stream",
     "text": [
      "10841\n",
      "10840\n"
     ]
    }
   ],
   "source": [
    "print(len(google_apps))\n",
    "del google_apps[10472]\n",
    "print(len(google_apps))"
   ]
  },
  {
   "cell_type": "markdown",
   "metadata": {},
   "source": [
    "We have successfully deleted one row that was at the index 10472 and confirmed it by checking the lenght of google apps data before and after. So now we have a dataset that has all corresponding values. But there can be duplicate value. Now we have to find that. "
   ]
  },
  {
   "cell_type": "markdown",
   "metadata": {},
   "source": [
    "# Finding the Duplicate entry\n",
    "\n",
    "Now we need to check if there are any duplicate entries in our dataset. One way to check it is by using its app name or app id. For iOS the unique identifier is the app id while google apps, the unique id is the app name iteself. So let us first check duplicate entries in iOS dataset.\n",
    "\n",
    "\n",
    "\n",
    "To do that we will create two empty lists, unique list and duplicate list. \n",
    "\n",
    "Inside the loop, the app_id will be checked agaist all entries in the unique list one by one. Initially unique list will be empty and the first entry will be appended to that list. After this, the subsequent app_ids will be checked against the entries in the unique list. If a match is found, that app_id will be appended to duplicate list.  So finally all the duplicate entries will end up in duplicate list while the unique ones in the unique list. \n",
    "\n",
    "( Note: If you are using app_name for iOS apps, you will find 2 duplicate entries. But their app_id and most other values are unique except for the app name. So it could be a different version of the app and lets not consider it as duplicate entry)"
   ]
  },
  {
   "cell_type": "code",
   "execution_count": 12,
   "metadata": {},
   "outputs": [
    {
     "name": "stdout",
     "output_type": "stream",
     "text": [
      "[]\n",
      "There are  0  duplicate app entries in ios dataset\n"
     ]
    }
   ],
   "source": [
    "ios_unique_list=[]                           # creating an empty list to store unique app names\n",
    "ios_duplicate_list=[]                        # creating an empty list to store duplicate app names \n",
    "\n",
    "for row in ios_apps:                         #picking each app data in ios app dataset\n",
    "    app_id=row[0]                            #assigning the value at index 0 as app_id\n",
    "    \n",
    "    if app_id in ios_unique_list:            #if app_id is found in unique list\n",
    "        #print(ios_apps.index(row))              #print the index of that row  \n",
    "        ios_duplicate_list.append(app_id)        #and add the name to duplicate list\n",
    "        \n",
    "    else:                                    #if app_id is NOT found in unique list\n",
    "        ios_unique_list.append(app_id)           #add it to the unique list      \n",
    "        \n",
    "\n",
    "\n",
    "# Once the loop is exited, print the list of duplicate list\n",
    "        \n",
    "print(ios_duplicate_list)\n",
    "print(\"There are \", len(ios_duplicate_list), \" duplicate app entries in ios dataset\")"
   ]
  },
  {
   "cell_type": "markdown",
   "metadata": {},
   "source": [
    "There was no duplicate entry in the iOS app data. So we can move to google app data now. \n",
    "\n",
    "Using the same logic as above, we will go through google app dataset to find the duplicate entry. But instead of app_id we will use app_name."
   ]
  },
  {
   "cell_type": "code",
   "execution_count": 13,
   "metadata": {},
   "outputs": [
    {
     "name": "stdout",
     "output_type": "stream",
     "text": [
      "Number of duplicate entries in Google apps' data set:  1181\n"
     ]
    }
   ],
   "source": [
    "unique_list=[]\n",
    "duplicate_list=[]\n",
    "\n",
    "for row in google_apps:\n",
    "    app_name=row[0]\n",
    "    \n",
    "    if app_name in unique_list:\n",
    "        duplicate_list.append(app_name)\n",
    "    else:\n",
    "        unique_list.append(app_name)        \n",
    "\n",
    "print(\"Number of duplicate entries in Google apps' data set: \", len(duplicate_list))  \n",
    "    "
   ]
  },
  {
   "cell_type": "markdown",
   "metadata": {},
   "source": [
    "So after our inspection, we can see that in ios app list, there are no duplicate entries, while in google app's list there are 1181 duplicate entries. \n",
    "\n",
    "Now we need to remove these duplicate entries from our data set. In order to do that let us take a look at a few sample duplicate entries and find a logic to delete them. Let us first retrieve first 26 duplicate entries from our duplicate list. "
   ]
  },
  {
   "cell_type": "code",
   "execution_count": 14,
   "metadata": {
    "scrolled": true
   },
   "outputs": [
    {
     "data": {
      "text/plain": [
       "['Quick PDF Scanner + OCR FREE',\n",
       " 'Box',\n",
       " 'Google My Business',\n",
       " 'ZOOM Cloud Meetings',\n",
       " 'join.me - Simple Meetings',\n",
       " 'Box',\n",
       " 'Zenefits',\n",
       " 'Google Ads',\n",
       " 'Google My Business',\n",
       " 'Slack',\n",
       " 'FreshBooks Classic',\n",
       " 'Insightly CRM',\n",
       " 'QuickBooks Accounting: Invoicing & Expenses',\n",
       " 'HipChat - Chat Built for Teams',\n",
       " 'Xero Accounting Software',\n",
       " 'MailChimp - Email, Marketing Automation',\n",
       " 'Crew - Free Messaging and Scheduling',\n",
       " 'Asana: organize team projects',\n",
       " 'Google Analytics',\n",
       " 'AdWords Express',\n",
       " 'Accounting App - Zoho Books',\n",
       " 'Invoice & Time Tracking - Zoho',\n",
       " 'join.me - Simple Meetings',\n",
       " 'Invoice 2go — Professional Invoices and Estimates',\n",
       " 'SignEasy | Sign and Fill PDF and other Documents']"
      ]
     },
     "execution_count": 14,
     "metadata": {},
     "output_type": "execute_result"
    }
   ],
   "source": [
    "duplicate_list[:25]"
   ]
  },
  {
   "cell_type": "markdown",
   "metadata": {},
   "source": [
    "Now that we have a some names of the duplicate entries, we can pick a few app names in random and see their duplicate entries. "
   ]
  },
  {
   "cell_type": "code",
   "execution_count": 15,
   "metadata": {},
   "outputs": [
    {
     "name": "stdout",
     "output_type": "stream",
     "text": [
      "['Slack', 'BUSINESS', '4.4', '51507', 'Varies with device', '5,000,000+', 'Free', '0', 'Everyone', 'Business', 'August 2, 2018', 'Varies with device', 'Varies with device']\n",
      "['Slack', 'BUSINESS', '4.4', '51507', 'Varies with device', '5,000,000+', 'Free', '0', 'Everyone', 'Business', 'August 2, 2018', 'Varies with device', 'Varies with device']\n",
      "['Slack', 'BUSINESS', '4.4', '51510', 'Varies with device', '5,000,000+', 'Free', '0', 'Everyone', 'Business', 'August 2, 2018', 'Varies with device', 'Varies with device']\n"
     ]
    }
   ],
   "source": [
    "# We randomly picked the app 'Slack' to check its duplicate entries\n",
    "\n",
    "for app in google_apps:\n",
    "    if app[0]=='Slack':\n",
    "        print(app)"
   ]
  },
  {
   "cell_type": "code",
   "execution_count": 16,
   "metadata": {},
   "outputs": [
    {
     "name": "stdout",
     "output_type": "stream",
     "text": [
      "['Facebook', 'SOCIAL', '4.1', '78158306', 'Varies with device', '1,000,000,000+', 'Free', '0', 'Teen', 'Social', 'August 3, 2018', 'Varies with device', 'Varies with device']\n",
      "['Facebook', 'SOCIAL', '4.1', '78128208', 'Varies with device', '1,000,000,000+', 'Free', '0', 'Teen', 'Social', 'August 3, 2018', 'Varies with device', 'Varies with device']\n"
     ]
    }
   ],
   "source": [
    "# We randomly picked the app 'Facebook' to check its duplicate entries\n",
    "\n",
    "\n",
    "for app in google_apps:\n",
    "    if app[0]=='Facebook':\n",
    "        print(app)"
   ]
  },
  {
   "cell_type": "code",
   "execution_count": 17,
   "metadata": {},
   "outputs": [
    {
     "name": "stdout",
     "output_type": "stream",
     "text": [
      "['Google My Business', 'BUSINESS', '4.4', '70991', 'Varies with device', '5,000,000+', 'Free', '0', 'Everyone', 'Business', 'July 24, 2018', '2.19.0.204537701', '4.4 and up']\n",
      "['Google My Business', 'BUSINESS', '4.4', '70991', 'Varies with device', '5,000,000+', 'Free', '0', 'Everyone', 'Business', 'July 24, 2018', '2.19.0.204537701', '4.4 and up']\n",
      "['Google My Business', 'BUSINESS', '4.4', '70991', 'Varies with device', '5,000,000+', 'Free', '0', 'Everyone', 'Business', 'July 24, 2018', '2.19.0.204537701', '4.4 and up']\n"
     ]
    }
   ],
   "source": [
    "# We randomly picked the app 'Google My Business' to check its duplicate entries\n",
    "\n",
    "\n",
    "for app in google_apps:\n",
    "    if app[0]=='Google My Business':\n",
    "        print(app)"
   ]
  },
  {
   "cell_type": "markdown",
   "metadata": {},
   "source": [
    "After analysing a few apps randomly, we have found out that the only change that occurs is the 4th column (at index 3) which is **the total number of reviews** at the time of scraping this data. \n",
    "\n",
    "The number of rating is increasing means, the data might have been collected at different times. So it is a better logic to keep the latest information, ie the data with higher number of rating. **So let us keep the row with more number of ratings among the duplicate entries and delete the rest.**"
   ]
  },
  {
   "cell_type": "markdown",
   "metadata": {},
   "source": [
    "In order to do that, we will create a dictionary to update the app's data with the latest values and delete the rest of the duplicate entries. We will use this dictionary in turn to create a new list without the duplicate entries. \n",
    "\n",
    "We are going to add the row of data to this empty dictionary if the value of rating is the highest among the duplicate entries. \n",
    "\n",
    "\n",
    "On the first iteration, it initially checks if there is any app name in the empty dictionary. Since there are no app_names in the empty dictionary, it goes to execute the next condition that adds a key:value pair to the dictionary with app_name: app_rating. \n",
    "\n",
    "On the next iteration, if a same app_name is found, and if the value corresponding to that key is less than app_rating given in the dataset in that iteration, value of the key gets updated with new higher app rating. And this process continues till all the apps listed in the dataset is checked. \n",
    "\n"
   ]
  },
  {
   "cell_type": "code",
   "execution_count": 18,
   "metadata": {},
   "outputs": [],
   "source": [
    "google_app_dictionary={}                  # defining an empty dictionary to store the data\n",
    "\n",
    "for app in google_apps:\n",
    "    app_name=app[0]\n",
    "    app_rating=float(app[3])\n",
    "    \n",
    "    # if app_name is in google_app_dictionary \n",
    "    # and if the value of dictionary (which is the app_rating) with a key=app_name  is less than app rating\n",
    "    # then update value of dictionary key with new app rating. \n",
    "    \n",
    "    if app_name in google_app_dictionary and google_app_dictionary[app_name]<app_rating:\n",
    "        google_app_dictionary[app_name]=app_rating            # Updating the dictionary with higher values\n",
    "        \n",
    "        \n",
    "    #if app_name is not found in google_app_dictionary \n",
    "    # add it to dictionary with corresponding app_rating\n",
    "        \n",
    "    elif app_name not in google_app_dictionary:\n",
    "        google_app_dictionary[app_name]=app_rating           # Adding the dictionary with new key:value pair\n",
    "        \n",
    "        \n",
    "        \n",
    "# Else statement is not used since it can add app_name:app_ratings whenever the first statement becomes false\n",
    "# and it can contain app_name with lower app_ratings and will still have duplicate entry.\n",
    "        \n",
    "\n",
    "    "
   ]
  },
  {
   "cell_type": "markdown",
   "metadata": {},
   "source": [
    "So let us cross check if we have removed all 1181 duplicate entries by a simple calculation, ie by comparing the length of dictionary we created without duplicate entries with the expected length we received from our calculation."
   ]
  },
  {
   "cell_type": "code",
   "execution_count": 19,
   "metadata": {},
   "outputs": [
    {
     "name": "stdout",
     "output_type": "stream",
     "text": [
      "Actual length: 9659\n",
      "Expected length: 9659\n"
     ]
    }
   ],
   "source": [
    "print(\"Actual length:\", len(google_app_dictionary))  # finding the length of new dictionary we created w/o duplication\n",
    "\n",
    "print( \"Expected length:\", len(google_apps)-1181)    # subtracting number of duplicate entries from total entries"
   ]
  },
  {
   "cell_type": "markdown",
   "metadata": {},
   "source": [
    "Since both values are same, we have successully eliminated the duplicate entries and updated the app names with the highest rating using our dictionary.\n",
    "\n",
    "\n",
    "Now we are going to create list from this dictionary for more flexible analysis. We do this by comparing the value of app_rating in both the newly created dictionary and in the google app dataset. If the value of app_rating matches, that row from google_app_dataset will be added to the clean_list. \n",
    "\n",
    "Another list will keep track of all app_names that has been added so far. By checking if the app_name is present here, we can avoid entering duplicate row of data. "
   ]
  },
  {
   "cell_type": "code",
   "execution_count": 20,
   "metadata": {},
   "outputs": [
    {
     "name": "stdout",
     "output_type": "stream",
     "text": [
      "Actual length of clean data 9659\n",
      "Expected length: 9659\n"
     ]
    }
   ],
   "source": [
    "clean_google_apps=[]                   # defining an empty list to store clean app data\n",
    "already_added_apps=[]                  # defining an empty list to help prevent duplication of entries\n",
    "\n",
    "\n",
    "for row in google_apps:                # iterates through google_app dataset\n",
    "    app_name=row[0]\n",
    "    app_rating=float(row[3])\n",
    "    \n",
    "    \n",
    "    # if the dictionary value paired with key=app_name is same\n",
    "    # and the app_name is not already added\n",
    "    # then clean_google_apps list gets appended\n",
    "    # and the already_added_apps list gets updated with the latest app_name\n",
    "    \n",
    "    if google_app_dictionary[app_name]==app_rating and app_name not in already_added_apps:\n",
    "        clean_google_apps.append(row)\n",
    "        already_added_apps.append(app_name)\n",
    "        \n",
    "            \n",
    "            \n",
    "print(\"Actual length of clean data\", len(clean_google_apps))\n",
    "print( \"Expected length:\", len(google_apps)-1181)"
   ]
  },
  {
   "cell_type": "markdown",
   "metadata": {},
   "source": [
    "# Data Cleaning | Stage : 2\n",
    "\n",
    "From our initial dataset, we have removed rows that have data missing and removed the duplicate entries. Now we have a clean dataset. But our requirement is a dataset with Free and Non-English app data. So we need to remove all the data related to apps that are not free and not in English. So that will be our data cleaning stage 2. \n",
    "\n",
    "\n",
    "## Finding the Non-English Apps \n",
    "\n",
    "To find non-English apps, we need to make use of the ASCII (American Standard Code for Information Interchange) system. \n",
    "\n",
    "The numbers corresponding to the characters we commonly use in an English text are all in the range 0 to 127, according to the ASCII  system. Based on this number range, we can build a function that detects whether a character belongs to the set of common English characters or not. If the number is equal to or less than 127, then the character belongs to the set of common English characters.\n",
    "\n",
    "If an app name contains a character that is greater than 127, then it probably means that the app has a non-English name or it has some non-English character.\n",
    "\n",
    "Any emoji or special character will also be considered as non-English character as it's value is higher than 127. There can be some app names that contains an emoji or two. So if we judge an app to be non-English just because of one emoji or special character, that will be a wrong move. So we will decide that if there are more than 3 non-English character, we will reject that app as non-English app. Though this might not be a fool-proof logic, but it works fine for our analysis here without creating a big difference. "
   ]
  },
  {
   "cell_type": "code",
   "execution_count": 21,
   "metadata": {},
   "outputs": [],
   "source": [
    "def english_checker(app_name):              # defining the function to find non-English character\n",
    "    non_english_char=0    \n",
    "    \n",
    "    for character in app_name:              # iterates through each character of the app_name\n",
    "        if ord(character) > 127:            # ord() function helps to find the ASCII value of each character\n",
    "            non_english_char += 1           # Counts the number of non-English character\n",
    "                    \n",
    "        \n",
    "    if non_english_char > 3:                # checks if non-English characters are more than 3\n",
    "        return False                        # if it is more than 3, returns with False, meaning Non-English app\n",
    "    else:        \n",
    "        return True                         # if it is less than 3, returns with True, meaning English app\n",
    "        \n"
   ]
  },
  {
   "cell_type": "markdown",
   "metadata": {},
   "source": [
    "Using this english_checker function, we are going to create a list that contains apps that are in English only. This will be a list containing already cleaned data but without non-English app entries. "
   ]
  },
  {
   "cell_type": "code",
   "execution_count": 22,
   "metadata": {},
   "outputs": [
    {
     "name": "stdout",
     "output_type": "stream",
     "text": [
      "No. of English Google Apps:  9614\n",
      "No. of English ios Apps:  6183\n"
     ]
    }
   ],
   "source": [
    "clean_english_google_apps=[]             # an empty list to store clean, English google apps\n",
    "clean_english_ios_apps=[]                # an empty list to store clean, English iOS apps\n",
    "\n",
    "\n",
    "\n",
    "# Creating clean_English_Google_Apps\n",
    "\n",
    "\n",
    "for app in clean_google_apps:   \n",
    "    app_name=app[0]\n",
    "    if english_checker(app_name):       # if english_checker function returns True, append the list with app row\n",
    "        clean_english_google_apps.append(app)\n",
    "        \n",
    "print(\"No. of English Google Apps: \", len(clean_english_google_apps))\n",
    "\n",
    "\n",
    "\n",
    "# Creating clean_English_iOS_Apps\n",
    "\n",
    "\n",
    "for app in ios_apps:\n",
    "    app_name=app[1]\n",
    "    if english_checker(app_name):     # if english_checker function returns True, append the list with app row\n",
    "        clean_english_ios_apps.append(app)\n",
    "        \n",
    "print(\"No. of English ios Apps: \", len(clean_english_ios_apps))\n",
    "   "
   ]
  },
  {
   "cell_type": "markdown",
   "metadata": {},
   "source": [
    "# Finding Free Apps\n",
    "\n",
    "Now that we have clean dataset with apps in English, we need to find the apps that are Free to download. All we need to check is if the price of the app is given as 0 or not. \n",
    "\n",
    "Note: The price is given as '0' in the case of google apps while '0.0' in the case of iOS apps. Both are string type. So when comparing, compare the strings. \n"
   ]
  },
  {
   "cell_type": "code",
   "execution_count": 23,
   "metadata": {},
   "outputs": [
    {
     "name": "stdout",
     "output_type": "stream",
     "text": [
      "No. of Free, English Google apps:  8864\n",
      "No. of Free, English iOS apps:  3222\n"
     ]
    }
   ],
   "source": [
    "free_english_google_apps=[]             # an empty list to store Free English Google apps\n",
    "free_english_ios_apps=[]                # an empty list to store Free English iOS apps\n",
    "\n",
    "\n",
    "\n",
    "# Creating clean_Free_English_Google_Apps\n",
    "\n",
    "\n",
    "for app in clean_english_google_apps:\n",
    "    price=app[7]    \n",
    "    if price=='0':\n",
    "        free_english_google_apps.append(app)\n",
    "        \n",
    "print(\"No. of Free, English Google apps: \", len(free_english_google_apps))\n",
    "\n",
    "\n",
    "\n",
    "# Creating clean_Free_English_iOS_Apps\n",
    "\n",
    "\n",
    "for app in clean_english_ios_apps:\n",
    "    price=app[4]\n",
    "    if price=='0.0':\n",
    "        free_english_ios_apps.append(app)\n",
    "        \n",
    "print(\"No. of Free, English iOS apps: \", len(free_english_ios_apps))"
   ]
  },
  {
   "cell_type": "markdown",
   "metadata": {},
   "source": [
    "We have successfully finished the data cleaning part. Now we have 2 data sets that are in accordance with our requirement. There are no missing values and no duplicate entries. Also all no Non-English and non-Free apps have been removed. Now we have clean data sets to work with. So it is time to do some analysis. \n",
    "\n",
    "\n",
    "# Analysing the Data sets\n",
    "\n",
    "\n",
    "\n",
    "Our aim is to determine the kinds of apps that are likely to attract more users because our revenue is highly influenced by the number of people using our apps.\n",
    "\n",
    "To minimize risks and overhead, our validation strategy for an app idea is comprised of three steps:\n",
    "\n",
    " * Build a minimal Android version of the app, and add it to Google Play.\n",
    " * If the app has a good response from users, we develop it further.\n",
    " * If the app is profitable after six months, we build an iOS version of the app and add it to the App Store.\n",
    " \n",
    "Because our end goal is to add the app on both Google Play and the App Store, we need to find app profiles that are successful on both markets. \n",
    "\n",
    "Let's begin the analysis by getting a sense of what are the most common genres for each market. For this, we'll need to build frequency tables for a few columns in our data sets.\n"
   ]
  },
  {
   "cell_type": "code",
   "execution_count": 24,
   "metadata": {},
   "outputs": [],
   "source": [
    "def freq_table(dataset,index):              # defining a function to create Frequency table of any index in the dataset\n",
    "    table={}\n",
    "    total=0\n",
    "    \n",
    "    for row in dataset:                     # iterates through the dataset\n",
    "        total+=1                            # To count total number of rows in a dataset\n",
    "        key=row[index]                      # assigns dictionary key as row data at that index\n",
    "        if key in table:                    # if that key is found in the table\n",
    "            table[key]+=1                   # the value of key gets updated by 1\n",
    "        else:\n",
    "            table[key]=1                    # else a new key is created with value 1\n",
    "            \n",
    "            \n",
    "    table_percentage={}                     # creates an empty table to store the percentage value\n",
    "        \n",
    "    for key in table:                       #iterates through the frequency table just created\n",
    "        percentage=(table[key]/total)*100   # calculate the percentage of each value\n",
    "        table_percentage[key]=percentage    # adds the key:value pair to the percentage table\n",
    "            \n",
    "    return table_percentage                 # the fuction retuns table percentage dictionary\n"
   ]
  },
  {
   "cell_type": "code",
   "execution_count": 25,
   "metadata": {},
   "outputs": [],
   "source": [
    "def display_table(dataset,index):           # defines a function to return a sorted percentage of frequency table\n",
    "    table = freq_table(dataset, index)      # creates a frequency table dictionary for the given dataset\n",
    "    table_display = []                      # creates an empty list to store the key, value pair as tuple\n",
    "    \n",
    "    \n",
    "    for key in table:                                 # iterates through the frequency table\n",
    "        key_val_as_tuple = (table[key], key)          # stores as value, key tuple; value stored first in order to sort\n",
    "        table_display.append(key_val_as_tuple)        # append the list with key value tuple\n",
    "        \n",
    "    \n",
    "    # Sorts the list and prints in descending order\n",
    "\n",
    "    table_sorted = sorted(table_display, reverse = True)         #sorts the frequency table in descending order\n",
    "    for entry in table_sorted:                                   # iterates through the sorted table\n",
    "        print(entry[1], ':', entry[0])                           # and prints in the Key: Value format"
   ]
  },
  {
   "cell_type": "markdown",
   "metadata": {},
   "source": [
    "### Google apps based on category\n",
    "\n",
    "Now let us use this display_table function to list down the top google apps based on its categories."
   ]
  },
  {
   "cell_type": "code",
   "execution_count": 26,
   "metadata": {
    "scrolled": true
   },
   "outputs": [
    {
     "name": "stdout",
     "output_type": "stream",
     "text": [
      "Google Apps based on Categories \n",
      "\n",
      "FAMILY : 18.907942238267147\n",
      "GAME : 9.724729241877256\n",
      "TOOLS : 8.461191335740072\n",
      "BUSINESS : 4.591606498194946\n",
      "LIFESTYLE : 3.9034296028880866\n",
      "PRODUCTIVITY : 3.892148014440433\n",
      "FINANCE : 3.7003610108303246\n",
      "MEDICAL : 3.531137184115524\n",
      "SPORTS : 3.395758122743682\n",
      "PERSONALIZATION : 3.3167870036101084\n",
      "COMMUNICATION : 3.2378158844765346\n",
      "HEALTH_AND_FITNESS : 3.0798736462093865\n",
      "PHOTOGRAPHY : 2.944494584837545\n",
      "NEWS_AND_MAGAZINES : 2.7978339350180503\n",
      "SOCIAL : 2.6624548736462095\n",
      "TRAVEL_AND_LOCAL : 2.33528880866426\n",
      "SHOPPING : 2.2450361010830324\n",
      "BOOKS_AND_REFERENCE : 2.1435018050541514\n",
      "DATING : 1.861462093862816\n",
      "VIDEO_PLAYERS : 1.7937725631768955\n",
      "MAPS_AND_NAVIGATION : 1.3989169675090252\n",
      "FOOD_AND_DRINK : 1.2409747292418771\n",
      "EDUCATION : 1.1620036101083033\n",
      "ENTERTAINMENT : 0.9589350180505415\n",
      "LIBRARIES_AND_DEMO : 0.9363718411552346\n",
      "AUTO_AND_VEHICLES : 0.9250902527075812\n",
      "HOUSE_AND_HOME : 0.8235559566787004\n",
      "WEATHER : 0.8009927797833934\n",
      "EVENTS : 0.7107400722021661\n",
      "PARENTING : 0.6543321299638989\n",
      "ART_AND_DESIGN : 0.6430505415162455\n",
      "COMICS : 0.6204873646209386\n",
      "BEAUTY : 0.5979241877256317\n"
     ]
    }
   ],
   "source": [
    "print(\"Google Apps based on Categories \\n\")\n",
    "display_table(free_english_google_apps,1)     # category is at the index 1"
   ]
  },
  {
   "cell_type": "markdown",
   "metadata": {},
   "source": [
    "From this sorted percentage table for google apps we have seen that Family category is leading with close to 19% among the free English apps falling under this category, almost double compared to the second in line, the Game apps with 9.7%. \n",
    "Before we continue to next category, lets have a quick look into the Family apps to see what kind of apps do they actually have. \n",
    "\n"
   ]
  },
  {
   "cell_type": "code",
   "execution_count": 70,
   "metadata": {},
   "outputs": [
    {
     "name": "stdout",
     "output_type": "stream",
     "text": [
      "Jewels Crush- Match 3 Puzzle : Everyone\n",
      "Coloring & Learn : Everyone\n",
      "Mahjong : Everyone\n",
      "Super ABC! Learning games for kids! Preschool apps : Everyone\n",
      "Toy Pop Cubes : Everyone\n",
      "Educational Games 4 Kids : Everyone\n",
      "Candy Pop Story : Everyone\n",
      "Princess Coloring Book : Everyone\n",
      "Hello Kitty Nail Salon : Everyone\n",
      "Candy Smash : Everyone\n",
      "Happy Fruits Bomb - Cube Blast : Everyone\n",
      "Princess Adventures Puzzles : Everyone\n",
      "Kids Educational Game 3 Free : Everyone\n",
      "Puzzle Kids - Animals Shapes and Jigsaw Puzzles : Everyone\n",
      "Coloring book moana : Everyone\n",
      "Baby Panda Care : Everyone\n",
      "Kids Educational :All in One : Everyone\n",
      "Number Counting games for toddler preschool kids : Everyone\n",
      "Learn To Draw Glow Flower : Everyone\n",
      "No. Color - Color by Number, Number Coloring : Everyone\n",
      "Draw.ly - Color by Number Pixel Art Coloring : Everyone\n",
      "Baby puzzles : Everyone\n",
      "Garden Fruit Legend : Everyone\n",
      "Barbie™ Fashion Closet : Everyone\n",
      "Candy Day : Everyone\n"
     ]
    }
   ],
   "source": [
    "count=0\n",
    "for app in free_english_google_apps:\n",
    "    if app[1]=='FAMILY':                # to print only those apps with the name 'Family'\n",
    "        count+=1\n",
    "        print(app[0], ':', app[8])      # prints App_name:content rating; to check the focussed audience\n",
    "        if count==25:                   # to print only 25 items\n",
    "            break"
   ]
  },
  {
   "cell_type": "markdown",
   "metadata": {},
   "source": [
    "After going through a random samples of apps under Family category,we can safely say that Family apps are mainly games and activity apps for kids and teens. Most of them can very well be grouped under games category too. That makes the major percentage of google apps falling under games category. \n",
    "\n",
    "Since games and Family category is quite saturated, it won't be a wise decision to enter into that category with yet another new app.\n",
    "\n",
    "But before getting into any more analysis, let us look google apps based on Genre, as there is one more segregation provided by genres\n",
    "\n",
    "### Google apps based on Genre"
   ]
  },
  {
   "cell_type": "code",
   "execution_count": 28,
   "metadata": {},
   "outputs": [
    {
     "name": "stdout",
     "output_type": "stream",
     "text": [
      "Google Apps based on Genre \n",
      "\n",
      "Tools : 8.449909747292418\n",
      "Entertainment : 6.069494584837545\n",
      "Education : 5.347472924187725\n",
      "Business : 4.591606498194946\n",
      "Productivity : 3.892148014440433\n",
      "Lifestyle : 3.892148014440433\n",
      "Finance : 3.7003610108303246\n",
      "Medical : 3.531137184115524\n",
      "Sports : 3.463447653429603\n",
      "Personalization : 3.3167870036101084\n",
      "Communication : 3.2378158844765346\n",
      "Action : 3.1024368231046933\n",
      "Health & Fitness : 3.0798736462093865\n",
      "Photography : 2.944494584837545\n",
      "News & Magazines : 2.7978339350180503\n",
      "Social : 2.6624548736462095\n",
      "Travel & Local : 2.3240072202166067\n",
      "Shopping : 2.2450361010830324\n",
      "Books & Reference : 2.1435018050541514\n",
      "Simulation : 2.0419675090252705\n",
      "Dating : 1.861462093862816\n",
      "Arcade : 1.8501805054151623\n",
      "Video Players & Editors : 1.7712093862815883\n",
      "Casual : 1.7599277978339352\n",
      "Maps & Navigation : 1.3989169675090252\n",
      "Food & Drink : 1.2409747292418771\n",
      "Puzzle : 1.128158844765343\n",
      "Racing : 0.9927797833935018\n",
      "Role Playing : 0.9363718411552346\n",
      "Libraries & Demo : 0.9363718411552346\n",
      "Auto & Vehicles : 0.9250902527075812\n",
      "Strategy : 0.9138086642599278\n",
      "House & Home : 0.8235559566787004\n",
      "Weather : 0.8009927797833934\n",
      "Events : 0.7107400722021661\n",
      "Adventure : 0.6768953068592057\n",
      "Comics : 0.6092057761732852\n",
      "Beauty : 0.5979241877256317\n",
      "Art & Design : 0.5979241877256317\n",
      "Parenting : 0.4963898916967509\n",
      "Card : 0.45126353790613716\n",
      "Casino : 0.42870036101083037\n",
      "Trivia : 0.41741877256317694\n",
      "Educational;Education : 0.39485559566787\n",
      "Board : 0.3835740072202166\n",
      "Educational : 0.3722924187725632\n",
      "Education;Education : 0.33844765342960287\n",
      "Word : 0.2594765342960289\n",
      "Casual;Pretend Play : 0.236913357400722\n",
      "Music : 0.2030685920577617\n",
      "Racing;Action & Adventure : 0.16922382671480143\n",
      "Puzzle;Brain Games : 0.16922382671480143\n",
      "Entertainment;Music & Video : 0.16922382671480143\n",
      "Casual;Brain Games : 0.13537906137184114\n",
      "Casual;Action & Adventure : 0.13537906137184114\n",
      "Arcade;Action & Adventure : 0.12409747292418773\n",
      "Action;Action & Adventure : 0.10153429602888085\n",
      "Educational;Pretend Play : 0.09025270758122744\n",
      "Simulation;Action & Adventure : 0.078971119133574\n",
      "Parenting;Education : 0.078971119133574\n",
      "Entertainment;Brain Games : 0.078971119133574\n",
      "Board;Brain Games : 0.078971119133574\n",
      "Parenting;Music & Video : 0.06768953068592057\n",
      "Educational;Brain Games : 0.06768953068592057\n",
      "Casual;Creativity : 0.06768953068592057\n",
      "Art & Design;Creativity : 0.06768953068592057\n",
      "Education;Pretend Play : 0.056407942238267145\n",
      "Role Playing;Pretend Play : 0.04512635379061372\n",
      "Education;Creativity : 0.04512635379061372\n",
      "Role Playing;Action & Adventure : 0.033844765342960284\n",
      "Puzzle;Action & Adventure : 0.033844765342960284\n",
      "Entertainment;Creativity : 0.033844765342960284\n",
      "Entertainment;Action & Adventure : 0.033844765342960284\n",
      "Educational;Creativity : 0.033844765342960284\n",
      "Educational;Action & Adventure : 0.033844765342960284\n",
      "Education;Music & Video : 0.033844765342960284\n",
      "Education;Brain Games : 0.033844765342960284\n",
      "Education;Action & Adventure : 0.033844765342960284\n",
      "Adventure;Action & Adventure : 0.033844765342960284\n",
      "Video Players & Editors;Music & Video : 0.02256317689530686\n",
      "Sports;Action & Adventure : 0.02256317689530686\n",
      "Simulation;Pretend Play : 0.02256317689530686\n",
      "Puzzle;Creativity : 0.02256317689530686\n",
      "Music;Music & Video : 0.02256317689530686\n",
      "Entertainment;Pretend Play : 0.02256317689530686\n",
      "Casual;Education : 0.02256317689530686\n",
      "Board;Action & Adventure : 0.02256317689530686\n",
      "Video Players & Editors;Creativity : 0.01128158844765343\n",
      "Trivia;Education : 0.01128158844765343\n",
      "Travel & Local;Action & Adventure : 0.01128158844765343\n",
      "Tools;Education : 0.01128158844765343\n",
      "Strategy;Education : 0.01128158844765343\n",
      "Strategy;Creativity : 0.01128158844765343\n",
      "Strategy;Action & Adventure : 0.01128158844765343\n",
      "Simulation;Education : 0.01128158844765343\n",
      "Role Playing;Brain Games : 0.01128158844765343\n",
      "Racing;Pretend Play : 0.01128158844765343\n",
      "Puzzle;Education : 0.01128158844765343\n",
      "Parenting;Brain Games : 0.01128158844765343\n",
      "Music & Audio;Music & Video : 0.01128158844765343\n",
      "Lifestyle;Pretend Play : 0.01128158844765343\n",
      "Lifestyle;Education : 0.01128158844765343\n",
      "Health & Fitness;Education : 0.01128158844765343\n",
      "Health & Fitness;Action & Adventure : 0.01128158844765343\n",
      "Entertainment;Education : 0.01128158844765343\n",
      "Communication;Creativity : 0.01128158844765343\n",
      "Comics;Creativity : 0.01128158844765343\n",
      "Casual;Music & Video : 0.01128158844765343\n",
      "Card;Action & Adventure : 0.01128158844765343\n",
      "Books & Reference;Education : 0.01128158844765343\n",
      "Art & Design;Pretend Play : 0.01128158844765343\n",
      "Art & Design;Action & Adventure : 0.01128158844765343\n",
      "Arcade;Pretend Play : 0.01128158844765343\n",
      "Adventure;Education : 0.01128158844765343\n"
     ]
    }
   ],
   "source": [
    "print(\"Google Apps based on Genre \\n\")\n",
    "display_table(free_english_google_apps,9)"
   ]
  },
  {
   "cell_type": "markdown",
   "metadata": {},
   "source": [
    "This segregation of apps is a bit more specific and in depth. For our analysis of finding a more profitable app, we really don't need this much of detailing. So we can use the broader classification as given by the categories. So further analysis we will make use of app classification based on categories. \n",
    "\n",
    "### iOS apps based on categories"
   ]
  },
  {
   "cell_type": "code",
   "execution_count": 29,
   "metadata": {
    "scrolled": true
   },
   "outputs": [
    {
     "name": "stdout",
     "output_type": "stream",
     "text": [
      "Games : 58.16263190564867\n",
      "Entertainment : 7.883302296710118\n",
      "Photo & Video : 4.9658597144630665\n",
      "Education : 3.662321539416512\n",
      "Social Networking : 3.2898820608317814\n",
      "Shopping : 2.60707635009311\n",
      "Utilities : 2.5139664804469275\n",
      "Sports : 2.1415270018621975\n",
      "Music : 2.0484171322160147\n",
      "Health & Fitness : 2.0173805090006205\n",
      "Productivity : 1.7380509000620732\n",
      "Lifestyle : 1.5828677839851024\n",
      "News : 1.3345747982619491\n",
      "Travel : 1.2414649286157666\n",
      "Finance : 1.1173184357541899\n",
      "Weather : 0.8690254500310366\n",
      "Food & Drink : 0.8069522036002483\n",
      "Reference : 0.5586592178770949\n",
      "Business : 0.5276225946617008\n",
      "Book : 0.4345127250155183\n",
      "Navigation : 0.186219739292365\n",
      "Medical : 0.186219739292365\n",
      "Catalogs : 0.12414649286157665\n"
     ]
    }
   ],
   "source": [
    "display_table(free_english_ios_apps, 11)"
   ]
  },
  {
   "cell_type": "markdown",
   "metadata": {},
   "source": [
    "In iOS apps also the games category is leading but here more than half of the free english apps falls under this category. Second one is entertainment with just under 8% share. By scanning through the categories and from the number of apps in those segments we can say that Appstore is dominated by for-fun apps while google play store has a balance of fun and functionality as it has similar quantities of practical use apps as well. \n",
    "\n",
    "We have an understanding of number of apps made in each categories/genres. \n",
    "\n",
    "\n",
    "# Finding the Apps that has more users from the top genres\n",
    "\n",
    "Now we know that which of these categories/genres have most number of apps made. But we don't know out of these genres, which genre has more users. In order to find that we can look into the average users in each genres. To find that we can use the number of instals if it is available. But for iOS app data, number of installs isn't avaliable. So as an alternative option, we can look into using total number of user rating. \n",
    "\n",
    "Now let us find the popularity of iOS apps in each categories. For that we can use rating_count_tot at index 5\n",
    "\n",
    "# iOS App Most Popular"
   ]
  },
  {
   "cell_type": "code",
   "execution_count": 56,
   "metadata": {},
   "outputs": [
    {
     "name": "stdout",
     "output_type": "stream",
     "text": [
      "{'Social Networking': 3.2898820608317814, 'Photo & Video': 4.9658597144630665, 'Games': 58.16263190564867, 'Music': 2.0484171322160147, 'Reference': 0.5586592178770949, 'Health & Fitness': 2.0173805090006205, 'Weather': 0.8690254500310366, 'Utilities': 2.5139664804469275, 'Travel': 1.2414649286157666, 'Shopping': 2.60707635009311, 'News': 1.3345747982619491, 'Navigation': 0.186219739292365, 'Lifestyle': 1.5828677839851024, 'Entertainment': 7.883302296710118, 'Food & Drink': 0.8069522036002483, 'Sports': 2.1415270018621975, 'Book': 0.4345127250155183, 'Finance': 1.1173184357541899, 'Education': 3.662321539416512, 'Productivity': 1.7380509000620732, 'Business': 0.5276225946617008, 'Catalogs': 0.12414649286157665, 'Medical': 0.186219739292365}\n"
     ]
    }
   ],
   "source": [
    "ios_genre=freq_table(free_english_ios_apps,11)  # To list down all the genres present in iOS app store\n",
    "print(ios_genre)"
   ]
  },
  {
   "cell_type": "code",
   "execution_count": 58,
   "metadata": {},
   "outputs": [
    {
     "name": "stdout",
     "output_type": "stream",
     "text": [
      "[(86090.33333333333, 'Navigation'), (74942.11111111111, 'Reference'), (71548.34905660378, 'Social Networking'), (57326.530303030304, 'Music'), (52279.892857142855, 'Weather'), (39758.5, 'Book'), (33333.92307692308, 'Food & Drink'), (31467.944444444445, 'Finance'), (28441.54375, 'Photo & Video'), (28243.8, 'Travel'), (26919.690476190477, 'Shopping'), (23298.015384615384, 'Health & Fitness'), (23008.898550724636, 'Sports'), (22788.6696905016, 'Games'), (21248.023255813954, 'News'), (21028.410714285714, 'Productivity'), (18684.456790123455, 'Utilities'), (16485.764705882353, 'Lifestyle'), (14029.830708661417, 'Entertainment'), (7491.117647058823, 'Business'), (7003.983050847458, 'Education'), (4004.0, 'Catalogs'), (612.0, 'Medical')]\n"
     ]
    }
   ],
   "source": [
    "a_list=[]                 # an empty list to add genre and average rating\n",
    "for genre in ios_genre:  # we need to pick one genre each and check for them in the whole data and add their ratings\n",
    "    \n",
    "    app_rating=0\n",
    "    total=0\n",
    "    for app in free_english_ios_apps:\n",
    "        if genre==app[11]:              # if the genre in ios_genre dictionary is same as the genre in dataset\n",
    "            total+=1                    # count the total\n",
    "            app_rating+=float(app[5])   # adding the app_ratings\n",
    "    average_rating=app_rating/total     # finding the average app_rating\n",
    "    b_list=(average_rating, genre)      # a dummy list to store average rating and genre as tuple\n",
    "    a_list.append(b_list)               # append (average_rating, genre) tuple to a list\n",
    "    \n",
    "print (sorted(a_list, reverse=True))    # print the sorted (average_rating,genre) list\n",
    "    \n",
    "    "
   ]
  },
  {
   "cell_type": "markdown",
   "metadata": {},
   "source": [
    "Here we can see Navigation apps are the most popular, followed by Reference and social networking apps. Lets quickly check the top apps in each of these categories. "
   ]
  },
  {
   "cell_type": "code",
   "execution_count": 59,
   "metadata": {},
   "outputs": [
    {
     "name": "stdout",
     "output_type": "stream",
     "text": [
      "Waze - GPS Navigation, Maps & Real-time Traffic : 345046\n",
      "Google Maps - Navigation & Transit : 154911\n",
      "Geocaching® : 12811\n",
      "CoPilot GPS – Car Navigation & Offline Maps : 3582\n",
      "ImmobilienScout24: Real Estate Search in Germany : 187\n",
      "Railway Route Search : 5\n"
     ]
    }
   ],
   "source": [
    "for app in free_english_ios_apps:\n",
    "    if app[11]=='Navigation':\n",
    "        print(app[1], \":\", app[5])"
   ]
  },
  {
   "cell_type": "markdown",
   "metadata": {},
   "source": [
    "Here we can see the Waze and Google Maps have hijacked the ratings along with Geocatching app. Rest of the apps doesn't have much influence. Also competing with such giants won't be a good strategy for our app.\n",
    "\n",
    "Now let us look at Reference apps, what are them and how they are doing. "
   ]
  },
  {
   "cell_type": "code",
   "execution_count": 33,
   "metadata": {},
   "outputs": [
    {
     "name": "stdout",
     "output_type": "stream",
     "text": [
      "Bible : 985920\n",
      "Dictionary.com Dictionary & Thesaurus : 200047\n",
      "Dictionary.com Dictionary & Thesaurus for iPad : 54175\n",
      "Google Translate : 26786\n",
      "Muslim Pro: Ramadan 2017 Prayer Times, Azan, Quran : 18418\n",
      "New Furniture Mods - Pocket Wiki & Game Tools for Minecraft PC Edition : 17588\n",
      "Merriam-Webster Dictionary : 16849\n",
      "Night Sky : 12122\n",
      "City Maps for Minecraft PE - The Best Maps for Minecraft Pocket Edition (MCPE) : 8535\n",
      "LUCKY BLOCK MOD ™ for Minecraft PC Edition - The Best Pocket Wiki & Mods Installer Tools : 4693\n",
      "GUNS MODS for Minecraft PC Edition - Mods Tools : 1497\n",
      "Guides for Pokémon GO - Pokemon GO News and Cheats : 826\n",
      "WWDC : 762\n",
      "Horror Maps for Minecraft PE - Download The Scariest Maps for Minecraft Pocket Edition (MCPE) Free : 718\n",
      "VPN Express : 14\n",
      "Real Bike Traffic Rider Virtual Reality Glasses : 8\n",
      "教えて!goo : 0\n",
      "Jishokun-Japanese English Dictionary & Translator : 0\n"
     ]
    }
   ],
   "source": [
    "for app in free_english_ios_apps:\n",
    "    if app[11]=='Reference':\n",
    "        print(app[1], \":\", app[5])"
   ]
  },
  {
   "cell_type": "markdown",
   "metadata": {},
   "source": [
    "In this category, Bible, Quran and dictionary apps have influenced the ratings quite a bit. There a few guides too available in this category. If we can create a guide for something that is in high demand, then only we can create a successful app. So venturing into this category might also be not a great idea to start off with. \n",
    "\n",
    "So let us go to the next category which is social networking. This category, without any analysis we can guess that is already very strong category because of the big names likes Facebook, instagram, twitter etc. But lets cross check our general knowledge with data. "
   ]
  },
  {
   "cell_type": "code",
   "execution_count": 71,
   "metadata": {},
   "outputs": [
    {
     "name": "stdout",
     "output_type": "stream",
     "text": [
      "Facebook : 2974676\n",
      "Pinterest : 1061624\n",
      "Skype for iPhone : 373519\n",
      "Messenger : 351466\n",
      "Tumblr : 334293\n",
      "WhatsApp Messenger : 287589\n",
      "Kik : 260965\n",
      "ooVoo – Free Video Call, Text and Voice : 177501\n",
      "TextNow - Unlimited Text + Calls : 164963\n",
      "Viber Messenger – Text & Call : 164249\n",
      "Followers - Social Analytics For Instagram : 112778\n",
      "MeetMe - Chat and Meet New People : 97072\n",
      "We Heart It - Fashion, wallpapers, quotes, tattoos : 90414\n",
      "InsTrack for Instagram - Analytics Plus More : 85535\n",
      "Tango - Free Video Call, Voice and Chat : 75412\n",
      "LinkedIn : 71856\n",
      "Match™ - #1 Dating App. : 60659\n",
      "Skype for iPad : 60163\n",
      "POF - Best Dating App for Conversations : 52642\n",
      "Timehop : 49510\n",
      "Find My Family, Friends & iPhone - Life360 Locator : 43877\n",
      "Whisper - Share, Express, Meet : 39819\n",
      "Hangouts : 36404\n",
      "LINE PLAY - Your Avatar World : 34677\n",
      "WeChat : 34584\n"
     ]
    }
   ],
   "source": [
    "count=0\n",
    "for app in free_english_ios_apps:\n",
    "    if app[11]=='Social Networking':\n",
    "        count+=1\n",
    "        print(app[1], \":\", app[5])\n",
    "        if count==25:                     # to print only 25 apps from the long list\n",
    "            break"
   ]
  },
  {
   "cell_type": "markdown",
   "metadata": {},
   "source": [
    "The guess was almost right. Facebook leads the way and there is a tight competition to face for any new app that comes into this category. Looking at this past data and seeing Telegram with 7573 should also give a good indication that if we can create a feature rich innovative social networking app, there are still chances. But we might not venture into this category at the moment due to high competition. \n",
    "\n",
    "It was surprising not to find instagram and twitter in the list. So lets just quickly check for them before we go into the next category. "
   ]
  },
  {
   "cell_type": "code",
   "execution_count": 35,
   "metadata": {},
   "outputs": [
    {
     "name": "stdout",
     "output_type": "stream",
     "text": [
      "Instagram : 2161558 Photo & Video\n",
      "Twitter : 354058 News\n"
     ]
    }
   ],
   "source": [
    "for app in free_english_ios_apps:\n",
    "    if app[1]=='Instagram':\n",
    "        print(app[1], \":\", app[5], app[11])\n",
    "    if app[1]=='Twitter':\n",
    "        print(app[1], \":\", app[5], app[11])"
   ]
  },
  {
   "cell_type": "markdown",
   "metadata": {},
   "source": [
    "Instagram is listed under Photo and video while Twitter under News. They are not among the social network. But most people consider them the 'Social media', and hence our conclusion of high competition is justified again. "
   ]
  },
  {
   "cell_type": "code",
   "execution_count": 60,
   "metadata": {},
   "outputs": [
    {
     "name": "stdout",
     "output_type": "stream",
     "text": [
      "Pandora - Music & Radio : 1126879\n",
      "Spotify Music : 878563\n",
      "Shazam - Discover music, artists, videos & lyrics : 402925\n",
      "iHeartRadio – Free Music & Radio Stations : 293228\n",
      "SoundCloud - Music & Audio : 135744\n",
      "Magic Piano by Smule : 131695\n",
      "Smule Sing! : 119316\n",
      "TuneIn Radio - MLB NBA Audiobooks Podcasts Music : 110420\n",
      "Amazon Music : 106235\n",
      "SoundHound Song Search & Music Player : 82602\n",
      "Sonos Controller : 48905\n",
      "Bandsintown Concerts : 30845\n",
      "Karaoke - Sing Karaoke, Unlimited Songs! : 28606\n",
      "My Mixtapez Music : 26286\n",
      "Sing Karaoke Songs Unlimited with StarMaker : 26227\n",
      "Ringtones for iPhone & Ringtone Maker : 25403\n",
      "Musi - Unlimited Music For YouTube : 25193\n",
      "AutoRap by Smule : 18202\n",
      "Spinrilla - Mixtapes For Free : 15053\n",
      "Napster - Top Music & Radio : 14268\n",
      "edjing Mix:DJ turntable to remix and scratch music : 13580\n",
      "Free Music - MP3 Streamer & Playlist Manager Pro : 13443\n",
      "Free Piano app by Yokee : 13016\n",
      "Google Play Music : 10118\n",
      "Certified Mixtapes - Hip Hop Albums & Mixtapes : 9975\n",
      "TIDAL : 7398\n",
      "YouTube Music : 7109\n",
      "Nicki Minaj: The Empire : 5196\n",
      "Sounds app - Music And Friends : 5126\n",
      "SongFlip - Free Music Streamer : 5004\n",
      "Simple Radio - Live AM & FM Radio Stations : 4787\n",
      "Deezer - Listen to your Favorite Music & Playlists : 4677\n",
      "Ringtones for iPhone with Ringtone Maker : 4013\n",
      "Bose SoundTouch : 3687\n",
      "Amazon Alexa : 3018\n",
      "DatPiff : 2815\n",
      "Trebel Music - Unlimited Music Downloader : 2570\n",
      "Free Music Play - Mp3 Streamer & Player : 2496\n",
      "Acapella from PicPlayPost : 2487\n",
      "Coach Guitar - Lessons & Easy Tabs For Beginners : 2416\n",
      "Musicloud - MP3 and FLAC Music Player for Cloud Platforms. : 2211\n",
      "Piano - Play Keyboard Music Games with Magic Tiles : 1636\n",
      "Boom: Best Equalizer & Magical Surround Sound : 1375\n",
      "Music Freedom - Unlimited Free MP3 Music Streaming : 1246\n",
      "AmpMe - A Portable Social Party Music Speaker : 1047\n",
      "Medly - Music Maker : 933\n",
      "Bose Connect : 915\n",
      "Music Memos : 909\n",
      "UE BOOM : 612\n",
      "LiveMixtapes : 555\n",
      "NOISE : 355\n",
      "MP3 Music Player & Streamer for Clouds : 329\n",
      "Musical Video Maker - Create Music clips lip sync : 320\n",
      "Cloud Music Player - Downloader & Playlist Manager : 319\n",
      "Remixlive - Remix loops with pads : 288\n",
      "QQ音乐HD : 224\n",
      "Blocs Wave - Make & Record Music : 158\n",
      "PlayGround • Music At Your Fingertips : 150\n",
      "Music and Chill : 135\n",
      "The Singing Machine Mobile Karaoke App : 130\n",
      "radio.de - Der Radioplayer : 64\n",
      "Free Music -  Player & Streamer  for Dropbox, OneDrive & Google Drive : 46\n",
      "NRJ Radio : 38\n",
      "Smart Music: Streaming Videos and Radio : 17\n",
      "BOSS Tuner : 13\n",
      "PetitLyrics : 0\n"
     ]
    }
   ],
   "source": [
    "for app in free_english_ios_apps:\n",
    "    if app[11]=='Music':\n",
    "        print(app[1], \":\", app[5])"
   ]
  },
  {
   "cell_type": "markdown",
   "metadata": {},
   "source": [
    "* Music apps are also already a saturated category like social networking. \n",
    "* At the same time weather apps wouldn't be very profitable as it is a very specialised category that also needs very accurate live data on a daily basis. So weather app won't be a very profitable app \n",
    "* Next one to check is Books"
   ]
  },
  {
   "cell_type": "code",
   "execution_count": 61,
   "metadata": {},
   "outputs": [
    {
     "name": "stdout",
     "output_type": "stream",
     "text": [
      "Kindle – Read eBooks, Magazines & Textbooks : 252076\n",
      "Audible – audio books, original series & podcasts : 105274\n",
      "Color Therapy Adult Coloring Book for Adults : 84062\n",
      "OverDrive – Library eBooks and Audiobooks : 65450\n",
      "HOOKED - Chat Stories : 47829\n",
      "BookShout: Read eBooks & Track Your Reading Goals : 879\n",
      "Dr. Seuss Treasury — 50 best kids books : 451\n",
      "Green Riding Hood : 392\n",
      "Weirdwood Manor : 197\n",
      "MangaZERO - comic reader : 9\n",
      "ikouhoushi : 0\n",
      "MangaTiara - love comic reader : 0\n",
      "謎解き : 0\n",
      "謎解き2016 : 0\n"
     ]
    }
   ],
   "source": [
    "for app in free_english_ios_apps:\n",
    "    if app[11]=='Book':\n",
    "        print(app[1], \":\", app[5])"
   ]
  },
  {
   "cell_type": "markdown",
   "metadata": {},
   "source": [
    "* In the book category kindle and audible are leading. But other than that there are very less competition. So that gives us some hope. If we can bring a popular book into an app, or combine one of the popular category with book, we might have a winning combination. We will take a decision on this category after going through the google app data also. \n",
    "\n",
    "* Next category to analys is Food and drinks."
   ]
  },
  {
   "cell_type": "code",
   "execution_count": 38,
   "metadata": {},
   "outputs": [
    {
     "name": "stdout",
     "output_type": "stream",
     "text": [
      "Starbucks : 303856\n",
      "Domino's Pizza USA : 258624\n",
      "OpenTable - Restaurant Reservations : 113936\n",
      "Allrecipes Dinner Spinner : 109349\n",
      "DoorDash - Food Delivery : 25947\n",
      "UberEATS: Uber for Food Delivery : 17865\n",
      "Postmates - Food Delivery, Faster : 9519\n",
      "Dunkin' Donuts - Get Offers, Coupons & Rewards : 9068\n",
      "Chick-fil-A : 5665\n",
      "McDonald's : 4050\n",
      "Deliveroo: Restaurant Delivery - Order Food Nearby : 1702\n",
      "SONIC Drive-In : 1645\n",
      "Nowait Guest : 1625\n",
      "7-Eleven, Inc. : 1356\n",
      "Outback : 805\n",
      "Bon Appetit : 750\n",
      "Starbucks Keyboard : 457\n",
      "Whataburger : 197\n",
      "Delish Eatmoji Keyboard : 154\n",
      "Lieferheld - Delicious food delivery service : 29\n",
      "Lieferando.de : 29\n",
      "McDo France : 22\n",
      "Chefkoch - Rezepte, Kochen, Backen & Kochbuch : 20\n",
      "Youmiam : 9\n",
      "Marmiton Twist : 2\n",
      "Open Food Facts : 1\n"
     ]
    }
   ],
   "source": [
    "for app in free_english_ios_apps:\n",
    "    if app[11]=='Food & Drink':\n",
    "        print(app[1], \":\", app[5])"
   ]
  },
  {
   "cell_type": "markdown",
   "metadata": {},
   "source": [
    "* Most of the big players are either in food business or food delivery business. Since we are not planning to create any physical products or delivery service, this category might not be the best option to start with. \n",
    "\n",
    "* Finance category needs specialised knowledge and we might need to spend money to find the right people for the operations. Travel category is already very popular and offers big competition. Same goes with shopping too. \n",
    "\n",
    "After analysing the first 10 or so categories, the **one category that might make some sense is 'Book' category.** If we can find a popular book and offer some extra services and convert it into an app, it will be a good starting point to test our idea and to create a new app. So with that conclusion, we can start looking into Google apps data. \n",
    "\n",
    "\n",
    "# Finding Popular app on Google Play Store\n",
    "\n",
    "For the google apps, the data regarding number of installs are already given. But they are not precise. It only indicates that the value is more than a certain number, for example 1000+, 50000+ etc\n",
    "\n",
    "To get a general idea for our analysis, we will consider 1000+ as 1000 and so on to do our analysis. In order to do that we need to clean the data and remove the extra symbols and need to convert it to float from string. \n",
    "\n",
    "So let's find the average number of installation of apps in each category. "
   ]
  },
  {
   "cell_type": "code",
   "execution_count": 62,
   "metadata": {},
   "outputs": [
    {
     "name": "stdout",
     "output_type": "stream",
     "text": [
      "[[38456119.167247385, 'COMMUNICATION'], [24727872.452830188, 'VIDEO_PLAYERS'], [23253652.127118643, 'SOCIAL'], [17840110.40229885, 'PHOTOGRAPHY'], [16787331.344927534, 'PRODUCTIVITY'], [15588015.603248259, 'GAME'], [13984077.710144928, 'TRAVEL_AND_LOCAL'], [11640705.88235294, 'ENTERTAINMENT'], [10801391.298666667, 'TOOLS'], [9549178.467741935, 'NEWS_AND_MAGAZINES'], [8767811.894736841, 'BOOKS_AND_REFERENCE'], [7036877.311557789, 'SHOPPING'], [5201482.6122448975, 'PERSONALIZATION'], [5074486.197183099, 'WEATHER'], [4188821.9853479853, 'HEALTH_AND_FITNESS'], [4056941.7741935486, 'MAPS_AND_NAVIGATION'], [3695641.8198090694, 'FAMILY'], [3638640.1428571427, 'SPORTS'], [1986335.0877192982, 'ART_AND_DESIGN'], [1924897.7363636363, 'FOOD_AND_DRINK'], [1833495.145631068, 'EDUCATION'], [1712290.1474201474, 'BUSINESS'], [1437816.2687861272, 'LIFESTYLE'], [1387692.475609756, 'FINANCE'], [1331540.5616438356, 'HOUSE_AND_HOME'], [854028.8303030303, 'DATING'], [817657.2727272727, 'COMICS'], [647317.8170731707, 'AUTO_AND_VEHICLES'], [638503.734939759, 'LIBRARIES_AND_DEMO'], [542603.6206896552, 'PARENTING'], [513151.88679245283, 'BEAUTY'], [253542.22222222222, 'EVENTS'], [120550.61980830671, 'MEDICAL']]\n"
     ]
    }
   ],
   "source": [
    "category_list=[]                                # an empty list to add the list of categories\n",
    "android_category=freq_table(free_english_google_apps,1)  # creating freq table of google apps\n",
    "\n",
    "for category in android_category:               # iterating through android category dictionary\n",
    "    total_installs=0\n",
    "    length_of_category=0    \n",
    "    for app in free_english_google_apps:        # iterating through google app dataset        \n",
    "        app_category=app[1]                    \n",
    "        if category==app_category:              # if category in the dictionary is same as that of app_category\n",
    "            no_of_installs = app[5]\n",
    "            no_of_installs = no_of_installs.replace(',','')    # replacing the string symbols with blank space\n",
    "            no_of_installs = no_of_installs.replace('+','')\n",
    "            total_installs += float(no_of_installs)            # converting the cleaned string into a float\n",
    "            length_of_category += 1                            # counting the length of category\n",
    "    avg_installs = total_installs/length_of_category\n",
    "    storing_list = [avg_installs, category]                    # dummy list to store [avg_install,category]\n",
    "    category_list.append(storing_list)                         # appending storing list to category list\n",
    "    \n",
    "print(sorted(category_list, reverse=True))                     # print the sorted category list\n",
    "                "
   ]
  },
  {
   "cell_type": "markdown",
   "metadata": {},
   "source": [
    "Now we have a sorted list of the top categories along with their average installations. The top 10 categories are communication, video player, social, photography, productivity, game, travel and local, entertainment, tools and news and magazines. Now let us look deeper into these categories. "
   ]
  },
  {
   "cell_type": "code",
   "execution_count": 63,
   "metadata": {},
   "outputs": [
    {
     "name": "stdout",
     "output_type": "stream",
     "text": [
      "No: 1  WhatsApp Messenger : 1,000,000,000+\n",
      "No: 2  Messenger – Text and Video Chat for Free : 1,000,000,000+\n",
      "No: 3  Skype - free IM & video calls : 1,000,000,000+\n",
      "No: 4  Google Chrome: Fast & Secure : 1,000,000,000+\n",
      "No: 5  Gmail : 1,000,000,000+\n",
      "No: 6  Hangouts : 1,000,000,000+\n"
     ]
    }
   ],
   "source": [
    "i=0\n",
    "for app in free_english_google_apps:\n",
    "    if app[1]=='COMMUNICATION' and app[5]=='1,000,000,000+':   # to find top installed Communication apps\n",
    "        i += 1\n",
    "        print('No:',i, '',app[0], ':', app[5])"
   ]
  },
  {
   "cell_type": "code",
   "execution_count": 64,
   "metadata": {},
   "outputs": [
    {
     "name": "stdout",
     "output_type": "stream",
     "text": [
      "No: 1  Google Duo - High Quality Video Calls : 500,000,000+\n",
      "No: 2  imo free video calls and chat : 500,000,000+\n",
      "No: 3  LINE: Free Calls & Messages : 500,000,000+\n",
      "No: 4  UC Browser - Fast Download Private & Secure : 500,000,000+\n",
      "No: 5  Viber Messenger : 500,000,000+\n"
     ]
    }
   ],
   "source": [
    "i=0\n",
    "for app in free_english_google_apps:\n",
    "    if app[1]=='COMMUNICATION' and app[5]=='500,000,000+':\n",
    "        i += 1\n",
    "        print('No:',i, '',app[0], ':', app[5])"
   ]
  },
  {
   "cell_type": "code",
   "execution_count": 65,
   "metadata": {},
   "outputs": [
    {
     "name": "stdout",
     "output_type": "stream",
     "text": [
      "No: 1  imo beta free calls and text : 100,000,000+\n",
      "No: 2  Android Messages : 100,000,000+\n",
      "No: 3  Who : 100,000,000+\n",
      "No: 4  GO SMS Pro - Messenger, Free Themes, Emoji : 100,000,000+\n",
      "No: 5  Firefox Browser fast & private : 100,000,000+\n",
      "No: 6  Messenger Lite: Free Calls & Messages : 100,000,000+\n",
      "No: 7  Kik : 100,000,000+\n",
      "No: 8  KakaoTalk: Free Calls & Text : 100,000,000+\n",
      "No: 9  Opera Mini - fast web browser : 100,000,000+\n",
      "No: 10  Opera Browser: Fast and Secure : 100,000,000+\n",
      "No: 11  Telegram : 100,000,000+\n",
      "No: 12  Truecaller: Caller ID, SMS spam blocking & Dialer : 100,000,000+\n",
      "No: 13  UC Browser Mini -Tiny Fast Private & Secure : 100,000,000+\n",
      "No: 14  WeChat : 100,000,000+\n",
      "No: 15  Yahoo Mail – Stay Organized : 100,000,000+\n",
      "No: 16  BBM - Free Calls & Messages : 100,000,000+\n"
     ]
    }
   ],
   "source": [
    "       \n",
    "i=0\n",
    "for app in free_english_google_apps:\n",
    "    if app[1]=='COMMUNICATION' and app[5]=='100,000,000+':\n",
    "        i += 1\n",
    "        print('No:',i, '',app[0], ':', app[5])"
   ]
  },
  {
   "cell_type": "markdown",
   "metadata": {},
   "source": [
    "* Communication : We can see that there are some major giants with a big share of the communication category. \n",
    "\n",
    "* Same will be true for Video players with youtube and social with facebook. Due to high competition, these categories aren't the best to enter. "
   ]
  },
  {
   "cell_type": "code",
   "execution_count": 66,
   "metadata": {},
   "outputs": [
    {
     "name": "stdout",
     "output_type": "stream",
     "text": [
      "No: 1  B612 - Beauty & Filter Camera : 100,000,000+\n",
      "No: 2  YouCam Makeup - Magic Selfie Makeovers : 100,000,000+\n",
      "No: 3  Sweet Selfie - selfie camera, beauty cam, photo edit : 100,000,000+\n",
      "No: 4  Google Photos : 1,000,000,000+\n",
      "No: 5  Retrica : 100,000,000+\n",
      "No: 6  Photo Editor Pro : 100,000,000+\n",
      "No: 7  BeautyPlus - Easy Photo Editor & Selfie Camera : 100,000,000+\n",
      "No: 8  PicsArt Photo Studio: Collage Maker & Pic Editor : 100,000,000+\n",
      "No: 9  Photo Collage Editor : 100,000,000+\n",
      "No: 10  Z Camera - Photo Editor, Beauty Selfie, Collage : 100,000,000+\n",
      "No: 11  PhotoGrid: Video & Pic Collage Maker, Photo Editor : 100,000,000+\n",
      "No: 12  Candy Camera - selfie, beauty camera, photo editor : 100,000,000+\n",
      "No: 13  YouCam Perfect - Selfie Photo Editor : 100,000,000+\n",
      "No: 14  Camera360: Selfie Photo Editor with Funny Sticker : 100,000,000+\n",
      "No: 15  S Photo Editor - Collage Maker , Photo Collage : 100,000,000+\n",
      "No: 16  AR effect : 100,000,000+\n",
      "No: 17  Cymera Camera- Photo Editor, Filter,Collage,Layout : 100,000,000+\n",
      "No: 18  LINE Camera - Photo editor : 100,000,000+\n",
      "No: 19  Photo Editor Collage Maker Pro : 100,000,000+\n"
     ]
    }
   ],
   "source": [
    "i=0\n",
    "for app in free_english_google_apps:\n",
    "    if app[1]=='PHOTOGRAPHY' and (app[5]=='1,000,000,000+' or app[5]=='100,000,000+'):\n",
    "        i += 1\n",
    "        print('No:',i, '',app[0], ':', app[5])"
   ]
  },
  {
   "cell_type": "markdown",
   "metadata": {},
   "source": [
    "* Picture editors, fancy camera apps etc are topping the Photography category. As there are quite a lot of tough competition already, it might not make sense to get into this category straight away to create a new app. \n",
    "\n",
    "Now let us look at Productivity category.\n"
   ]
  },
  {
   "cell_type": "code",
   "execution_count": 44,
   "metadata": {},
   "outputs": [
    {
     "name": "stdout",
     "output_type": "stream",
     "text": [
      "No: 1  Microsoft Word : 500,000,000+\n",
      "No: 2  Microsoft Outlook : 100,000,000+\n",
      "No: 3  Microsoft OneDrive : 100,000,000+\n",
      "No: 4  Microsoft OneNote : 100,000,000+\n",
      "No: 5  Google Keep : 100,000,000+\n",
      "No: 6  ES File Explorer File Manager : 100,000,000+\n",
      "No: 7  Dropbox : 500,000,000+\n",
      "No: 8  Google Docs : 100,000,000+\n",
      "No: 9  Microsoft PowerPoint : 100,000,000+\n",
      "No: 10  Samsung Notes : 100,000,000+\n",
      "No: 11  SwiftKey Keyboard : 100,000,000+\n",
      "No: 12  Google Drive : 1,000,000,000+\n",
      "No: 13  Adobe Acrobat Reader : 100,000,000+\n",
      "No: 14  Google Sheets : 100,000,000+\n",
      "No: 15  Microsoft Excel : 100,000,000+\n",
      "No: 16  WPS Office - Word, Docs, PDF, Note, Slide & Sheet : 100,000,000+\n",
      "No: 17  Google Slides : 100,000,000+\n",
      "No: 18  ColorNote Notepad Notes : 100,000,000+\n",
      "No: 19  Evernote – Organizer, Planner for Notes & Memos : 100,000,000+\n",
      "No: 20  Google Calendar : 500,000,000+\n",
      "No: 21  Cloud Print : 500,000,000+\n",
      "No: 22  CamScanner - Phone PDF Creator : 100,000,000+\n"
     ]
    }
   ],
   "source": [
    "i=0\n",
    "for app in free_english_google_apps:\n",
    "    if app[1]=='PRODUCTIVITY'and (app[5]=='1,000,000,000+' or app[5]=='500,000,000+' or app[5]=='100,000,000+'):\n",
    "        i += 1\n",
    "        print('No:',i, '',app[0], ':', app[5])"
   ]
  },
  {
   "cell_type": "markdown",
   "metadata": {},
   "source": [
    "* Productivity category is ruled by giants like microsoft and google. Entry for a new app won't be easy in this category. \n",
    "* From our earilier analysis we have found out the iOS game category is saturated. It looks like it will be true for google apps as well. \n",
    "\n",
    "So let us look at the next category 'Travel and Local'. "
   ]
  },
  {
   "cell_type": "code",
   "execution_count": 45,
   "metadata": {},
   "outputs": [
    {
     "name": "stdout",
     "output_type": "stream",
     "text": [
      "No: 1  trivago: Hotels & Travel : 50,000,000+\n",
      "No: 2  Hopper - Watch & Book Flights : 5,000,000+\n",
      "No: 3  TripIt: Travel Organizer : 1,000,000+\n",
      "No: 4  Trip by Skyscanner - City & Travel Guide : 500,000+\n",
      "No: 5  CityMaps2Go Plan Trips Travel Guide Offline Maps : 1,000,000+\n",
      "No: 6  KAYAK Flights, Hotels & Cars : 10,000,000+\n",
      "No: 7  World Travel Guide by Triposo : 500,000+\n",
      "No: 8  Booking.com Travel Deals : 100,000,000+\n",
      "No: 9  Hostelworld: Hostels & Cheap Hotels Travel App : 1,000,000+\n",
      "No: 10  Google Trips - Travel Planner : 5,000,000+\n",
      "No: 11  GPS Map Free : 5,000,000+\n",
      "No: 12  GasBuddy: Find Cheap Gas : 10,000,000+\n",
      "No: 13  Southwest Airlines : 5,000,000+\n",
      "No: 14  AT&T Navigator: Maps, Traffic : 10,000,000+\n",
      "No: 15  VZ Navigator : 50,000,000+\n",
      "No: 16  KakaoMap - Map / Navigation : 10,000,000+\n",
      "No: 17  AirAsia : 10,000,000+\n",
      "No: 18  Expedia Hotels, Flights & Car Rental Travel Deals : 10,000,000+\n",
      "No: 19  Goibibo - Flight Hotel Bus Car IRCTC Booking App : 10,000,000+\n",
      "No: 20  Allegiant : 1,000,000+\n",
      "No: 21  Amtrak : 1,000,000+\n",
      "No: 22  JAL (Domestic and international flights) : 1,000,000+\n",
      "No: 23  Flight & Hotel Booking App - ixigo : 5,000,000+\n",
      "No: 24  VZ Navigator for Tablets : 500,000+\n",
      "No: 25  TripAdvisor Hotels Flights Restaurants Attractions : 100,000,000+\n",
      "No: 26  HSL - Tickets, route planner and information : 100,000+\n",
      "No: 27  Wisepilot for XPERIA™ : 5,000,000+\n",
      "No: 28  VZ Navigator for Galaxy S4 : 5,000,000+\n",
      "No: 29  MAIN : 1,000,000+\n",
      "No: 30  Yoriza Pension - travel, lodging, pension, camping, caravan, pool villas accommodation discount : 1,000,000+\n",
      "No: 31  Foursquare Swarm: Check In : 10,000,000+\n",
      "No: 32  PagesJaunes - local search : 10,000,000+\n",
      "No: 33  Flightradar24 Flight Tracker : 10,000,000+\n",
      "No: 34  Yatra - Flights, Hotels, Bus, Trains & Cabs : 10,000,000+\n",
      "No: 35  SNCF : 5,000,000+\n",
      "No: 36  Fly Delta : 5,000,000+\n",
      "No: 37  Skyscanner : 10,000,000+\n",
      "No: 38  Despegar.com Hotels and Flights : 10,000,000+\n",
      "No: 39  Navigation Plus : 1,000,000+\n",
      "No: 40  2GIS: directory & navigator : 50,000,000+\n",
      "No: 41  Poynt : 5,000,000+\n",
      "No: 42  Gaode Map : 1,000,000+\n",
      "No: 43  Priceline Hotel Deals, Rental Cars & Flights : 5,000,000+\n",
      "No: 44  TravelPirates : 1,000,000+\n",
      "No: 45  Free Radar Detector : 1,000,000+\n",
      "No: 46  American Airlines : 5,000,000+\n",
      "No: 47  Where to travel - ticket. hotel. train ticket. car ticket. travel. tickets : 1,000,000+\n",
      "No: 48  United Airlines : 5,000,000+\n",
      "No: 49  NTES : 10,000,000+\n",
      "No: 50  Where is my Train : Indian Railway & PNR Status : 10,000,000+\n",
      "No: 51  MakeMyTrip-Flight Hotel Bus Cab IRCTC Rail Booking : 10,000,000+\n",
      "No: 52  Restaurant Finder : 1,000,000+\n",
      "No: 53  Zagat : 100,000+\n",
      "No: 54  Gormey: Find Best Restaurants : 1,000+\n",
      "No: 55  Find Dining Restaurant Finder : 100,000+\n",
      "No: 56  Urbanspoon Restaurant Reviews : 5,000,000+\n",
      "No: 57  Yelp: Food, Shopping, Services Nearby : 10,000,000+\n",
      "No: 58  Qatar Airways : 1,000,000+\n",
      "No: 59  Hipmunk Hotels & Flights : 1,000,000+\n",
      "No: 60  Skiplagged — Exclusive Flights & Hotels : 1,000,000+\n",
      "No: 61  CWT To Go : 100,000+\n",
      "No: 62  British Airways : 1,000,000+\n",
      "No: 63  Cheap Flights & Hotels momondo : 5,000,000+\n",
      "No: 64  CheapTickets – Hotels, Flights & Travel Deals : 1,000,000+\n",
      "No: 65  JetBlue : 1,000,000+\n",
      "No: 66  Flights : 1,000,000+\n",
      "No: 67  Cheapflights – Flight Search : 5,000,000+\n",
      "No: 68  KLM - Royal Dutch Airlines : 1,000,000+\n",
      "No: 69  Orbitz - Hotels, Flights & Package Deals : 1,000,000+\n",
      "No: 70  Lufthansa : 1,000,000+\n",
      "No: 71  easyJet: Travel App : 10,000,000+\n",
      "No: 72  IndiGo : 5,000,000+\n",
      "No: 73  LateRooms: Find Hotel Deals : 1,000,000+\n",
      "No: 74  Choice Hotels : 1,000,000+\n",
      "No: 75  Couchsurfing Travel App : 1,000,000+\n",
      "No: 76  Hotwire Hotel & Car Rental App : 1,000,000+\n",
      "No: 77  HOTEL DEALS : 100,000+\n",
      "No: 78  HomeAway Vacation Rentals : 5,000,000+\n",
      "No: 79  IHG®: Hotel Deals & Rewards : 1,000,000+\n",
      "No: 80  SPG: Starwood Hotels & Resorts : 1,000,000+\n",
      "No: 81  Hotels.com: Book Hotel Rooms & Find Vacation Deals : 10,000,000+\n",
      "No: 82  HotelTonight: Book amazing deals at great hotels : 5,000,000+\n",
      "No: 83  Airbnb : 10,000,000+\n",
      "No: 84  Hotels Combined - Cheap deals : 5,000,000+\n",
      "No: 85  Agoda – Hotel Booking Deals : 10,000,000+\n",
      "No: 86  Turo - Better Than Car Rental : 1,000,000+\n",
      "No: 87  Ascape VR: 360° Virtual Travel : 100,000+\n",
      "No: 88  Cheap hotel deals and discounts — Hotellook : 1,000,000+\n",
      "No: 89  Maps - Navigate & Explore : 1,000,000,000+\n",
      "No: 90  GPS Status & Toolbox : 10,000,000+\n",
      "No: 91  Airport + Flight Tracker Radar : 1,000,000+\n",
      "No: 92  Scout GPS Navigation & Meet Up : 5,000,000+\n",
      "No: 93  Street Panorama View : 1,000,000+\n",
      "No: 94  Geo Tracker - GPS tracker : 1,000,000+\n",
      "No: 95  DreamTrips : 500,000+\n",
      "No: 96  Navmii GPS USA (Navfree) : 500,000+\n",
      "No: 97  Sygic Truck GPS Navigation : 1,000,000+\n",
      "No: 98  Google Street View : 1,000,000,000+\n",
      "No: 99  Air Transat CinePlus B : 50,000+\n",
      "No: 100  U-Haul : 100,000+\n",
      "No: 101  Octo U: Your driving companion : 50,000+\n",
      "No: 102  Flexiroam X : 100,000+\n",
      "No: 103  Connect.ae - Local Search UAE : 10,000+\n",
      "No: 104  Toppen af Danmark : 5,000+\n",
      "No: 105  Alabama Road Trips : 10,000+\n",
      "No: 106  Official AL Fishing & Hunting : 50,000+\n",
      "No: 107  Where Am I At? : 10,000+\n",
      "No: 108  Where Am I? GPS Loc : 10,000+\n",
      "No: 109  Live Camera Viewer ★ World Webcam & IP Cam Streams : 10,000,000+\n",
      "No: 110  Portal AR - Step Into Scotland : 5,000+\n",
      "No: 111  Casino AZ/Talking Stick Resort : 10,000+\n",
      "No: 112  Explore Sedona & Northern AZ : 10,000+\n",
      "No: 113  Arizona Trail : 5,000+\n",
      "No: 114  Phoenix and Arizona Cameras : 10,000+\n",
      "No: 115  Experience BA : 100+\n",
      "No: 116  BA Status : 100+\n",
      "No: 117  Avios for Android : 100,000+\n",
      "No: 118  Explore British Columbia - BC Travel Guide : 500+\n",
      "No: 119  BC Highways - Road Conditions : 10,000+\n",
      "No: 120  Victoria, BC | Tour City : 1,000+\n",
      "No: 121  British Columbia Tourist Places (Guide) : 100+\n",
      "No: 122  BG Metro - Red voznje : 1,000+\n",
      "No: 123  BG Guide : 100+\n",
      "No: 124  trip.bg : 1,000+\n",
      "No: 125  Belo Horizonte Map offline : 1,000+\n",
      "No: 126  BH Mission Playbook : 100+\n",
      "No: 127  BH Rocking : 100+\n",
      "No: 128  Digital Tourist BH Itinerary : 500+\n",
      "No: 129  BL info : 5,000+\n",
      "No: 130  BPme - Mobile Fuel Payment & BP Driver Rewards app : 10,000+\n",
      "No: 131  Wherever BQ : 50+\n",
      "No: 132  BU Dental GoGoldman : 100+\n",
      "No: 133  BU Questrom Launch : 100+\n",
      "No: 134  BU School of Public Health : 10+\n",
      "No: 135  BV Aventure : 100+\n",
      "No: 136  BV Rando : 100+\n",
      "No: 137  Best Western To Go : 100,000+\n",
      "No: 138  BW Map mobile : 10,000+\n",
      "No: 139  Best Western e-Concierge Hotel : 10,000+\n",
      "No: 140  24/7 BZ Reis : 100,000+\n",
      "No: 141  BZ Vesper-App : 1,000+\n",
      "No: 142  Restaurantführer Südbaden : 1,000+\n",
      "No: 143  BZ Straußenführer : 10,000+\n",
      "No: 144  California Cameras - Traffic : 10,000+\n",
      "No: 145  Kiosque CD : 5+\n",
      "No: 146  US 115th CD : 5+\n",
      "No: 147  CE AH VLJ : 1,000+\n",
      "No: 148  search.ch : 500,000+\n",
      "No: 149  CJ's Coffee Cafe : 500+\n",
      "No: 150  Camping and Co - Camping in Europe : 1,000+\n",
      "No: 151  CQ Hotels : 10,000+\n",
      "No: 152  SHUTTLLS CQ - Connect Ride Go : 5+\n",
      "No: 153  Cathay Pacific : 1,000,000+\n",
      "No: 154  Map of Cyprus offline : 10,000+\n",
      "No: 155  DB BAHN : 500+\n",
      "No: 156  DB FahrtProfi : 1,000+\n",
      "No: 157  DC Metro Transit - Free : 500,000+\n",
      "No: 158  DC Trails-Hop On Hop Off Tours : 5,000+\n",
      "No: 159  Can I pack that? - DG App : 10,000+\n",
      "No: 160  DG Cars : 10,000+\n",
      "No: 161  DK Eyewitness Audio Walks : 1,000+\n",
      "No: 162  DM Transfers Dalaman Transfers : 10,000+\n",
      "No: 163  US DV Lottery 2020 Apply : 10,000+\n",
      "No: 164  US DV Lottery 2019 : 1,000+\n",
      "No: 165  DW Maps : 10,000+\n",
      "No: 166  junainfo.dy.fi : 100+\n",
      "No: 167  Siyaha Dz : 10,000+\n",
      "No: 168  IRIS : Customer Service - DZ Algeria : 1,000+\n",
      "No: 169  DZ Fly Algérie Horaire Vols : 10,000+\n",
      "No: 170  EA Plus : 1,000+\n",
      "No: 171  EB Events : 10,000+\n",
      "No: 172  Audiowalk EB : 10+\n",
      "No: 173  EF Go Ahead Tour Companion : 1,000+\n",
      "No: 174  EF Summits : 100+\n",
      "No: 175  EG SIM CARD (EGSIMCARD) : 10,000+\n",
      "No: 176  The Emirates App : 1,000,000+\n",
      "No: 177  Ek-yatri: Travel where you Belong : 1+\n",
      "No: 178  EL AL Flights : 100,000+\n",
      "No: 179  DreamStream By EL AL : 100,000+\n",
      "No: 180  El Dorado App : 10,000+\n",
      "No: 181  EO Hotels : 100+\n",
      "No: 182  Fill 'er Up : 5,000+\n",
      "No: 183  MAPS.ME – Offline Map and Travel Navigation : 50,000,000+\n",
      "No: 184  Google Earth : 100,000,000+\n",
      "No: 185  Offline Maps & Navigation : 5,000,000+\n",
      "No: 186  myLPG.eu : 50,000+\n",
      "No: 187  Passenger rights : 50,000+\n",
      "No: 188  taxi.eu : 100,000+\n",
      "No: 189  To-U - free EV public charging : 1,000+\n",
      "No: 190  Bird - Enjoy The Ride : 500,000+\n",
      "No: 191  eCooltra: scooter sharing. Share electric scooters : 100,000+\n",
      "No: 192  XE Currency : 10,000,000+\n",
      "No: 193  Etihad Airways : 500,000+\n",
      "No: 194  EZ TAG Express : 10,000+\n",
      "No: 195  Santa Fe Map and Walks : 1,000+\n",
      "No: 196  Santa Fe VIP Tours : 100+\n",
      "No: 197  Toyota Cruisers & Trucks Mag : 500+\n",
      "No: 198  FL State Parks Guide : 100,000+\n",
      "No: 199  Florida Travel Guide : 1,000+\n",
      "No: 200  The Florida Trail Guide : 5,000+\n",
      "No: 201  Florida Keys : 10,000+\n",
      "No: 202  Florida Travel Guide - TOURIAS : 10,000+\n",
      "No: 203  Florida map : 5,000+\n",
      "No: 204  Florida Beach Wallpapers HD : 100+\n",
      "No: 205  ORLANDO FLORIDA MAP : 1,000+\n",
      "No: 206  Florida Offline Road Map : 10,000+\n",
      "No: 207  Florida Map offline : 1,000+\n"
     ]
    }
   ],
   "source": [
    "i=0\n",
    "for app in free_english_google_apps:\n",
    "    if app[1]=='TRAVEL_AND_LOCAL':\n",
    "        i += 1\n",
    "        print('No:',i, '',app[0], ':', app[5])"
   ]
  },
  {
   "cell_type": "markdown",
   "metadata": {},
   "source": [
    "* Travel and local category is quite popular  and diverse, but almsost all fields have already been covered and it looks like it is all managed by specialised service providers. As we are not planning to spend too much on offering a very specialised service, travel and local category might not be the best fit. \n",
    "\n",
    "Next category to look into is Entertainment. \n",
    "\n"
   ]
  },
  {
   "cell_type": "code",
   "execution_count": 46,
   "metadata": {},
   "outputs": [
    {
     "name": "stdout",
     "output_type": "stream",
     "text": [
      "No: 1  Hotstar : 100,000,000+\n",
      "No: 2  Talking Angela : 100,000,000+\n",
      "No: 3  IMDb Movies & TV : 100,000,000+\n",
      "No: 4  Talking Ben the Dog : 100,000,000+\n",
      "No: 5  Netflix : 100,000,000+\n"
     ]
    }
   ],
   "source": [
    "i=0\n",
    "for app in free_english_google_apps:\n",
    "    if app[1]=='ENTERTAINMENT' and (app[5]=='1,000,000,000+' or app[5]=='500,000,000+' or app[5]=='100,000,000+'):\n",
    "        i += 1\n",
    "        print('No:',i, '',app[0], ':', app[5])"
   ]
  },
  {
   "cell_type": "markdown",
   "metadata": {},
   "source": [
    "* Entertainment category needs specialised content that are fresh and entertaining. Since we don't want to get involved in that entertainment category will also not be the best fit. \n",
    "\n",
    "Now let us look at the category : tools."
   ]
  },
  {
   "cell_type": "code",
   "execution_count": 47,
   "metadata": {},
   "outputs": [
    {
     "name": "stdout",
     "output_type": "stream",
     "text": [
      "No: 1  Google : 1,000,000,000+\n",
      "No: 2  Google Translate : 500,000,000+\n",
      "No: 3  Calculator : 100,000,000+\n",
      "No: 4  Device Help : 100,000,000+\n",
      "No: 5  Account Manager : 100,000,000+\n",
      "No: 6  SHAREit - Transfer & Share : 500,000,000+\n",
      "No: 7  Samsung Calculator : 100,000,000+\n",
      "No: 8  Gboard - the Google Keyboard : 500,000,000+\n",
      "No: 9  Google Korean Input : 100,000,000+\n",
      "No: 10  Share Music & Transfer Files - Xender : 100,000,000+\n",
      "No: 11  Tiny Flashlight + LED : 100,000,000+\n",
      "No: 12  GO Keyboard - Cute Emojis, Themes and GIFs : 100,000,000+\n",
      "No: 13  Speedtest by Ookla : 100,000,000+\n",
      "No: 14  CM Locker - Security Lockscreen : 100,000,000+\n",
      "No: 15  Applock : 100,000,000+\n",
      "No: 16  Clean Master- Space Cleaner & Antivirus : 500,000,000+\n",
      "No: 17  Lookout Security & Antivirus : 100,000,000+\n",
      "No: 18  Google Now Launcher : 100,000,000+\n",
      "No: 19  360 Security - Free Antivirus, Booster, Cleaner : 100,000,000+\n",
      "No: 20  Samsung Smart Switch Mobile : 100,000,000+\n",
      "No: 21  Avast Mobile Security 2018 - Antivirus & App Lock : 100,000,000+\n",
      "No: 22  AppLock : 100,000,000+\n",
      "No: 23  AVG AntiVirus 2018 for Android Security : 100,000,000+\n",
      "No: 24  Security Master - Antivirus, VPN, AppLock, Booster : 500,000,000+\n",
      "No: 25  Battery Doctor-Battery Life Saver & Battery Cooler : 100,000,000+\n",
      "No: 26  Automatic Call Recorder : 100,000,000+\n",
      "No: 27  Anti-virus Dr.Web Light : 100,000,000+\n",
      "No: 28  Cache Cleaner-DU Speed Booster (booster & cleaner) : 100,000,000+\n",
      "No: 29  DU Battery Saver - Battery Charger & Battery Life : 100,000,000+\n"
     ]
    }
   ],
   "source": [
    "i=0\n",
    "for app in free_english_google_apps:\n",
    "    if app[1]=='TOOLS' and (app[5]=='1,000,000,000+' or app[5]=='500,000,000+' or app[5]=='100,000,000+'):\n",
    "        i += 1\n",
    "        print('No:',i, '',app[0], ':', app[5])"
   ]
  },
  {
   "cell_type": "markdown",
   "metadata": {},
   "source": [
    "* Tools can be a great category to enter if we have a unique idea of a tool that most people are lacking at the moment. To find that we might need to run an expensive market research. Otherwise, it looks like the tools category offers many options already and it is saturated. So it won't be an easy entry for a new app. \n",
    "\n",
    "* Next category is News and Magazines. Since we don't have our own news agency and magazine, this category won't be the best genre to start. \n",
    "\n",
    "Now we are coming again to Books and references. "
   ]
  },
  {
   "cell_type": "code",
   "execution_count": 48,
   "metadata": {},
   "outputs": [
    {
     "name": "stdout",
     "output_type": "stream",
     "text": [
      "No: 1  Google Play Books : 1,000,000,000+\n",
      "No: 2  Bible : 100,000,000+\n",
      "No: 3  Amazon Kindle : 100,000,000+\n",
      "No: 4  Wattpad 📖 Free Books : 100,000,000+\n",
      "No: 5  Audiobooks from Audible : 100,000,000+\n"
     ]
    }
   ],
   "source": [
    "i=0\n",
    "for app in free_english_google_apps:\n",
    "    if app[1]=='BOOKS_AND_REFERENCE' and (app[5]=='1,000,000,000+' or app[5]=='500,000,000+' or app[5]=='100,000,000+'):\n",
    "        i += 1\n",
    "        print('No:',i, '',app[0], ':', app[5])"
   ]
  },
  {
   "cell_type": "markdown",
   "metadata": {},
   "source": [
    "Looks like there are not many giants in this category just like it was in iOS. So let us examine the whole data for this category. "
   ]
  },
  {
   "cell_type": "code",
   "execution_count": 67,
   "metadata": {},
   "outputs": [
    {
     "name": "stdout",
     "output_type": "stream",
     "text": [
      "No: 1  E-Book Read - Read Book for free : 50,000+\n",
      "No: 2  Download free book with green book : 100,000+\n",
      "No: 3  Wikipedia : 10,000,000+\n",
      "No: 4  Cool Reader : 10,000,000+\n",
      "No: 5  Free Panda Radio Music : 100,000+\n",
      "No: 6  Book store : 1,000,000+\n",
      "No: 7  FBReader: Favorite Book Reader : 10,000,000+\n",
      "No: 8  English Grammar Complete Handbook : 500,000+\n",
      "No: 9  Free Books - Spirit Fanfiction and Stories : 1,000,000+\n",
      "No: 10  Google Play Books : 1,000,000,000+\n",
      "No: 11  AlReader -any text book reader : 5,000,000+\n",
      "No: 12  Offline English Dictionary : 100,000+\n",
      "No: 13  Offline: English to Tagalog Dictionary : 500,000+\n",
      "No: 14  FamilySearch Tree : 1,000,000+\n",
      "No: 15  Cloud of Books : 1,000,000+\n",
      "No: 16  Recipes of Prophetic Medicine for free : 500,000+\n",
      "No: 17  ReadEra – free ebook reader : 1,000,000+\n",
      "No: 18  Anonymous caller detection : 10,000+\n",
      "No: 19  Ebook Reader : 5,000,000+\n",
      "No: 20  Litnet - E-books : 100,000+\n",
      "No: 21  Read books online : 5,000,000+\n",
      "No: 22  English to Urdu Dictionary : 500,000+\n",
      "No: 23  eBoox: book reader fb2 epub zip : 1,000,000+\n",
      "No: 24  English Persian Dictionary : 500,000+\n",
      "No: 25  Flybook : 500,000+\n",
      "No: 26  All Maths Formulas : 1,000,000+\n",
      "No: 27  Ancestry : 5,000,000+\n",
      "No: 28  HTC Help : 10,000,000+\n",
      "No: 29  English translation from Bengali : 100,000+\n",
      "No: 30  Pdf Book Download - Read Pdf Book : 100,000+\n",
      "No: 31  Free Book Reader : 100,000+\n",
      "No: 32  eBoox new: Reader for fb2 epub zip books : 50,000+\n",
      "No: 33  Only 30 days in English, the guideline is guaranteed : 500,000+\n",
      "No: 34  Moon+ Reader : 10,000,000+\n",
      "No: 35  SH-02J Owner's Manual (Android 8.0) : 50,000+\n",
      "No: 36  English-Myanmar Dictionary : 1,000,000+\n",
      "No: 37  Golden Dictionary (EN-AR) : 1,000,000+\n",
      "No: 38  All Language Translator Free : 1,000,000+\n",
      "No: 39  Azpen eReader : 500,000+\n",
      "No: 40  URBANO V 02 instruction manual : 100,000+\n",
      "No: 41  Bible : 100,000,000+\n",
      "No: 42  C Programs and Reference : 50,000+\n",
      "No: 43  C Offline Tutorial : 1,000+\n",
      "No: 44  C Programs Handbook : 50,000+\n",
      "No: 45  Amazon Kindle : 100,000,000+\n",
      "No: 46  Aab e Hayat Full Novel : 100,000+\n",
      "No: 47  Aldiko Book Reader : 10,000,000+\n",
      "No: 48  Google I/O 2018 : 500,000+\n",
      "No: 49  R Language Reference Guide : 10,000+\n",
      "No: 50  Learn R Programming Full : 5,000+\n",
      "No: 51  R Programing Offline Tutorial : 1,000+\n",
      "No: 52  Guide for R Programming : 5+\n",
      "No: 53  Learn R Programming : 10+\n",
      "No: 54  R Quick Reference Big Data : 1,000+\n",
      "No: 55  V Made : 100,000+\n",
      "No: 56  Wattpad 📖 Free Books : 100,000,000+\n",
      "No: 57  Dictionary - WordWeb : 5,000,000+\n",
      "No: 58  Guide (for X-MEN) : 100,000+\n",
      "No: 59  AC Air condition Troubleshoot,Repair,Maintenance : 5,000+\n",
      "No: 60  AE Bulletins : 1,000+\n",
      "No: 61  Ae Allah na Dai (Rasa) : 10,000+\n",
      "No: 62  50000 Free eBooks & Free AudioBooks : 5,000,000+\n",
      "No: 63  Ag PhD Field Guide : 10,000+\n",
      "No: 64  Ag PhD Deficiencies : 10,000+\n",
      "No: 65  Ag PhD Planting Population Calculator : 1,000+\n",
      "No: 66  Ag PhD Soybean Diseases : 1,000+\n",
      "No: 67  Fertilizer Removal By Crop : 50,000+\n",
      "No: 68  A-J Media Vault : 50+\n",
      "No: 69  Al-Quran (Free) : 10,000,000+\n",
      "No: 70  Al Quran (Tafsir & by Word) : 500,000+\n",
      "No: 71  Al Quran Indonesia : 10,000,000+\n",
      "No: 72  Al'Quran Bahasa Indonesia : 10,000,000+\n",
      "No: 73  Al Quran Al karim : 1,000,000+\n",
      "No: 74  Al-Muhaffiz : 50,000+\n",
      "No: 75  Al Quran : EAlim - Translations & MP3 Offline : 5,000,000+\n",
      "No: 76  Al-Quran 30 Juz free copies : 500,000+\n",
      "No: 77  Koran Read &MP3 30 Juz Offline : 1,000,000+\n",
      "No: 78  Hafizi Quran 15 lines per page : 1,000,000+\n",
      "No: 79  Quran for Android : 10,000,000+\n",
      "No: 80  Surah Al-Waqiah : 100,000+\n",
      "No: 81  Hisnul Al Muslim - Hisn Invocations & Adhkaar : 100,000+\n",
      "No: 82  Satellite AR : 1,000,000+\n",
      "No: 83  Audiobooks from Audible : 100,000,000+\n",
      "No: 84  Kinot & Eichah for Tisha B'Av : 10,000+\n",
      "No: 85  AW Tozer Devotionals - Daily : 5,000+\n",
      "No: 86  Tozer Devotional -Series 1 : 1,000+\n",
      "No: 87  The Pursuit of God : 1,000+\n",
      "No: 88  AY Sing : 5,000+\n",
      "No: 89  Ay Hasnain k Nana Milad Naat : 10,000+\n",
      "No: 90  Ay Mohabbat Teri Khatir Novel : 10,000+\n",
      "No: 91  Arizona Statutes, ARS (AZ Law) : 1,000+\n",
      "No: 92  Oxford A-Z of English Usage : 1,000,000+\n",
      "No: 93  BD Fishpedia : 1,000+\n",
      "No: 94  BD All Sim Offer : 10,000+\n",
      "No: 95  Youboox - Livres, BD et magazines : 500,000+\n",
      "No: 96  B&H Kids AR : 10,000+\n",
      "No: 97  B y H Niños ES : 5,000+\n",
      "No: 98  Dictionary.com: Find Definitions for English Words : 10,000,000+\n",
      "No: 99  English Dictionary - Offline : 10,000,000+\n",
      "No: 100  Bible KJV : 5,000,000+\n",
      "No: 101  Borneo Bible, BM Bible : 10,000+\n",
      "No: 102  MOD Black for BM : 100+\n",
      "No: 103  BM Box : 1,000+\n",
      "No: 104  Anime Mod for BM : 100+\n",
      "No: 105  NOOK: Read eBooks & Magazines : 10,000,000+\n",
      "No: 106  NOOK Audiobooks : 500,000+\n",
      "No: 107  NOOK App for NOOK Devices : 500,000+\n",
      "No: 108  Browsery by Barnes & Noble : 5,000+\n",
      "No: 109  bp e-store : 1,000+\n",
      "No: 110  Brilliant Quotes: Life, Love, Family & Motivation : 1,000,000+\n",
      "No: 111  BR Ambedkar Biography & Quotes : 10,000+\n",
      "No: 112  BU Alsace : 100+\n",
      "No: 113  Catholic La Bu Zo Kam : 500+\n",
      "No: 114  Khrifa Hla Bu (Solfa) : 10+\n",
      "No: 115  Kristian Hla Bu : 10,000+\n",
      "No: 116  SA HLA BU : 1,000+\n",
      "No: 117  Learn SAP BW : 500+\n",
      "No: 118  Learn SAP BW on HANA : 500+\n",
      "No: 119  CA Laws 2018 (California Laws and Codes) : 5,000+\n",
      "No: 120  Bootable Methods(USB-CD-DVD) : 10,000+\n",
      "No: 121  cloudLibrary : 100,000+\n",
      "No: 122  SDA Collegiate Quarterly : 500+\n",
      "No: 123  Sabbath School : 100,000+\n",
      "No: 124  Cypress College Library : 100+\n",
      "No: 125  Stats Royale for Clash Royale : 1,000,000+\n",
      "No: 126  GATE 21 years CS Papers(2011-2018 Solved) : 50+\n",
      "No: 127  Learn CT Scan Of Head : 5,000+\n",
      "No: 128  Easy Cv maker 2018 : 10,000+\n",
      "No: 129  How to Write CV : 100,000+\n",
      "No: 130  CW Nuclear : 1,000+\n",
      "No: 131  CY Spray nozzle : 10+\n",
      "No: 132  BibleRead En Cy Zh Yue : 5+\n",
      "No: 133  CZ-Help : 5+\n",
      "No: 134  Modlitební knížka CZ : 500+\n",
      "No: 135  Guide for DB Xenoverse : 10,000+\n",
      "No: 136  Guide for DB Xenoverse 2 : 10,000+\n",
      "No: 137  Guide for IMS DB : 10+\n",
      "No: 138  DC HSEMA : 5,000+\n",
      "No: 139  DC Public Library : 1,000+\n",
      "No: 140  Painting Lulu DC Super Friends : 1,000+\n",
      "No: 141  Dictionary : 10,000,000+\n",
      "No: 142  Fix Error Google Playstore : 1,000+\n",
      "No: 143  D. H. Lawrence Poems FREE : 1,000+\n",
      "No: 144  Bilingual Dictionary Audio App : 5,000+\n",
      "No: 145  DM Screen : 10,000+\n",
      "No: 146  wikiHow: how to do anything : 1,000,000+\n",
      "No: 147  Dr. Doug's Tips : 1,000+\n",
      "No: 148  Bible du Semeur-BDS (French) : 50,000+\n",
      "No: 149  La citadelle du musulman : 50,000+\n",
      "No: 150  DV 2019 Entry Guide : 10,000+\n",
      "No: 151  DV 2019 - EDV Photo & Form : 50,000+\n",
      "No: 152  DV 2018 Winners Guide : 1,000+\n",
      "No: 153  EB Annual Meetings : 1,000+\n",
      "No: 154  EC - AP & Telangana : 5,000+\n",
      "No: 155  TN Patta Citta & EC : 10,000+\n",
      "No: 156  AP Stamps and Registration : 10,000+\n",
      "No: 157  CompactiMa EC pH Calibration : 100+\n",
      "No: 158  EGW Writings 2 : 100,000+\n",
      "No: 159  EGW Writings : 1,000,000+\n",
      "No: 160  Bible with EGW Comments : 100,000+\n",
      "No: 161  My Little Pony AR Guide : 1,000,000+\n",
      "No: 162  SDA Sabbath School Quarterly : 500,000+\n",
      "No: 163  Duaa Ek Ibaadat : 5,000+\n",
      "No: 164  Spanish English Translator : 10,000,000+\n",
      "No: 165  Dictionary - Merriam-Webster : 10,000,000+\n",
      "No: 166  JW Library : 10,000,000+\n",
      "No: 167  Oxford Dictionary of English : Free : 10,000,000+\n",
      "No: 168  English Hindi Dictionary : 10,000,000+\n",
      "No: 169  English to Hindi Dictionary : 5,000,000+\n",
      "No: 170  EP Research Service : 1,000+\n",
      "No: 171  Hymnes et Louanges : 100,000+\n",
      "No: 172  EU Charter : 1,000+\n",
      "No: 173  EU Data Protection : 1,000+\n",
      "No: 174  EU IP Codes : 100+\n",
      "No: 175  EW PDF : 5+\n",
      "No: 176  BakaReader EX : 100,000+\n",
      "No: 177  EZ Quran : 50,000+\n",
      "No: 178  FA Part 1 & 2 Past Papers Solved Free – Offline : 5,000+\n",
      "No: 179  La Fe de Jesus : 1,000+\n",
      "No: 180  La Fe de Jesús : 500+\n",
      "No: 181  Le Fe de Jesus : 500+\n",
      "No: 182  Florida - Pocket Brainbook : 1,000+\n",
      "No: 183  Florida Statutes (FL Code) : 1,000+\n",
      "No: 184  English To Shona Dictionary : 10,000+\n",
      "No: 185  Greek Bible FP (Audio) : 1,000+\n",
      "No: 186  Golden Dictionary (FR-AR) : 500,000+\n",
      "No: 187  Fanfic-FR : 5,000+\n",
      "No: 188  Bulgarian French Dictionary Fr : 10,000+\n",
      "No: 189  Chemin (fr) : 1,000+\n",
      "No: 190  The SCP Foundation DB fr nn5n : 1,000+\n"
     ]
    }
   ],
   "source": [
    "i=0\n",
    "for app in free_english_google_apps:\n",
    "    if app[1]=='BOOKS_AND_REFERENCE' :\n",
    "        i += 1\n",
    "        print('No:',i, '',app[0], ':', app[5])"
   ]
  },
  {
   "cell_type": "markdown",
   "metadata": {},
   "source": [
    "After analysing the data, we can see that there are many reliogious and reference books here. There are some technical textbooks also available. Other than that not many interesting books are available to read. "
   ]
  },
  {
   "cell_type": "code",
   "execution_count": 50,
   "metadata": {},
   "outputs": [
    {
     "name": "stdout",
     "output_type": "stream",
     "text": [
      "No: 1  Bible : 100,000,000+\n",
      "No: 2  Al-Quran (Free) : 10,000,000+\n",
      "No: 3  Al Quran (Tafsir & by Word) : 500,000+\n",
      "No: 4  Al Quran Indonesia : 10,000,000+\n",
      "No: 5  Al'Quran Bahasa Indonesia : 10,000,000+\n",
      "No: 6  Al Quran Al karim : 1,000,000+\n",
      "No: 7  Al Quran Audio (Full 30 Juz) : 1,000,000+\n",
      "No: 8  Quran for All (Al-Huda Int.) : 100,000+\n",
      "No: 9  Ayat - Al Quran : 5,000,000+\n",
      "No: 10  Quran Juz-30 - Mahad al Zahra : 100,000+\n",
      "No: 11  Al Quran : EAlim - Translations & MP3 Offline : 5,000,000+\n",
      "No: 12  Al-Quran Al-Muallim : 10,000+\n",
      "No: 13  Al-Quran 30 Juz free copies : 500,000+\n",
      "No: 14  Al Quran MP3 - Quran Reading® : 1,000,000+\n",
      "No: 15  Hafizi Quran 15 lines per page : 1,000,000+\n",
      "No: 16  Al-Quran Ahmad Saud Offline : 100,000+\n",
      "No: 17  Quran for Android : 10,000,000+\n",
      "No: 18  Taha Al Junaid Quran Mp3 : 50,000+\n",
      "No: 19  Muslim Pro - Prayer Times, Azan, Quran & Qibla : 10,000,000+\n",
      "No: 20  Holy Quran Mehmet Emin Ay : 10,000+\n",
      "No: 21  Quran Khmer Offline AY : 1,000+\n",
      "No: 22  Elif Ba - Learn The Holy Quran : 50,000+\n",
      "No: 23  Elifba Quran Learning Game : 100,000+\n",
      "No: 24  Bible KJV : 5,000,000+\n",
      "No: 25  Borneo Bible, BM Bible : 10,000+\n",
      "No: 26  Bible Quizzer - The App for Bible Quizzers : 100+\n",
      "No: 27  BibleRead En Cy Zh Yue : 5+\n",
      "No: 28  Bible du Semeur-BDS (French) : 50,000+\n",
      "No: 29  Bible with EGW Comments : 100,000+\n",
      "No: 30  Ek Qissa He Quran Se (Qurani Waqiyat) : 100+\n",
      "No: 31  EZ Quran : 50,000+\n",
      "No: 32  Greek Bible FP (Audio) : 1,000+\n"
     ]
    }
   ],
   "source": [
    "i=0\n",
    "for app in free_english_google_apps:\n",
    "    if 'Bible' in app[0] or 'Quran' in app[0] :\n",
    "        i += 1\n",
    "        print('No:',i, '',app[0], ':', app[5])"
   ]
  },
  {
   "cell_type": "markdown",
   "metadata": {},
   "source": [
    "Our analysis shows that there are many apps based on Bible and Quran. So similarly, it will be a good idea to create an app based on a popular book with interesting addon features. \n",
    "\n",
    "If we can transform a popular book into an app with interesting features, there is a chance that we can make some profits as books category offers lesser competition and with good research we can create a good demand too. \n",
    "\n",
    "Also, we can look into the possibility of combining the travel category and book category and create interesting travel books since in both categories such a possibility is missing. \n",
    "\n",
    "\n",
    "# Conclusion\n",
    "\n",
    "The number of apps in iOS and Google play store are increasing day by day. There are more than 2 million iOS apps available on the App Store, and 2.1 million Android apps on Google Play as per the data from 2018! We have analyses a very small sample data from iOS app store and Google play store to find a profitable app profile. Due to our requirement we have cleaned our data to create a data set containing free and English apps. \n",
    "\n",
    "After doing analysis in this specific dataset we have found out \n",
    "* many categories like social networking, photography and video have high competition\n",
    "* Categories like games, family are oversaturated\n",
    "* Categories like tools, productivity are overshadowed by giants\n",
    "* Categories like Travel, food, music, weather etc needs specialised services to backup\n",
    "\n",
    "Out of these categories, the one category stood out on both iOS and google app data set was the 'Books' category. This category has lesser big names stealing the show and lesser competition. Some of the popular books in the history of mankind are huge in this category, such as the Bible and the Quaran. Next in line are the dictionaries. \n",
    "\n",
    "It clearly shows that if we can find an interesting and popular book to convert into an app, a great demand can definitely be created. If we can provide some interesting features as add-on to elevate the experience of a book, it can be a great idea for an app. \n",
    "\n",
    "Also, if the book category can be combined with one of the other top popular categories such as travel, food etc, it can prove to be a winning combination as such combinations are clearly lacking in these categories. \n"
   ]
  },
  {
   "cell_type": "code",
   "execution_count": null,
   "metadata": {},
   "outputs": [],
   "source": []
  }
 ],
 "metadata": {
  "kernelspec": {
   "display_name": "Python 3",
   "language": "python",
   "name": "python3"
  },
  "language_info": {
   "codemirror_mode": {
    "name": "ipython",
    "version": 3
   },
   "file_extension": ".py",
   "mimetype": "text/x-python",
   "name": "python",
   "nbconvert_exporter": "python",
   "pygments_lexer": "ipython3",
   "version": "3.7.6"
  }
 },
 "nbformat": 4,
 "nbformat_minor": 4
}
